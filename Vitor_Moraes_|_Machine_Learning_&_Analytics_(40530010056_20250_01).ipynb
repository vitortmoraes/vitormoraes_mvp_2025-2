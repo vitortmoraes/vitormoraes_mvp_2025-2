{
  "nbformat": 4,
  "nbformat_minor": 0,
  "metadata": {
    "colab": {
      "provenance": [],
      "collapsed_sections": [
        "EmNcyQ_zgAp4"
      ],
      "authorship_tag": "ABX9TyMENwRCw89mzcB9HbSS2qGb",
      "include_colab_link": true
    },
    "kernelspec": {
      "name": "python3",
      "display_name": "Python 3"
    },
    "language_info": {
      "name": "python"
    }
  },
  "cells": [
    {
      "cell_type": "markdown",
      "metadata": {
        "id": "view-in-github",
        "colab_type": "text"
      },
      "source": [
        "<a href=\"https://colab.research.google.com/github/vitortmoraes/vitormoraes_mvp_2025-2/blob/main/Vitor_Moraes_%7C_Machine_Learning_%26_Analytics_(40530010056_20250_01).ipynb\" target=\"_parent\"><img src=\"https://colab.research.google.com/assets/colab-badge.svg\" alt=\"Open In Colab\"/></a>"
      ]
    },
    {
      "cell_type": "markdown",
      "source": [
        "# MVP Machine Learning & Analytics\n",
        "\n",
        "**Nome:** Vitor Teixeira Moraes\n",
        "\n",
        "**Matrícula:** 4052025000694\n",
        "\n",
        "**Dataset:** [Kaglle Dataset](https://www.kaggle.com/datasets/pavansubhasht/ibm-hr-analytics-attrition-dataset/data)\n",
        "\n",
        "**--- OBSERVAÇÕES IMPORTANTES ---**\n",
        "\n",
        "**Introdução e Contexto do Projeto**\n",
        "\n",
        "Este projeto representa o MVP (Minimum Viable Product) para o sprint de Machine Learning & Analytics, focado na construção de uma solução de ponta a ponta para prever a rotatividade de funcionários (attrition).\n",
        "\n",
        "**Distinção entre os Sprints**\n",
        "\n",
        "Para contextualizar este trabalho, é importante diferenciar os objetivos de cada sprint:\n",
        "\n",
        "- **No Sprint Anterior** (Análise de Dados & Boas Práticas): O foco foi realizar uma Análise Exploratória de Dados (EDA) completa sobre o dataset de attrition da IBM. Naquele projeto, investigamos a fundo a estrutura dos dados, as correlações entre as variáveis, o perfil dos funcionários e geramos visualizações para extrair os primeiros insights sobre os possíveis fatores que influenciam a rotatividade. O trabalho anterior pode ser acessado neste [repositório do GitHub.](https://github.com/vitortmoraes/vitormoraes_mvp_2025-1)\n",
        "\n",
        "- **Neste Sprint Atual** (Machine Learning & Analytics): Partindo dos insights gerados pela análise exploratória, o objetivo agora é construir, treinar e avaliar modelos preditivos. Iremos aplicar técnicas de Machine Learning para criar um sistema capaz de prever quais funcionários têm maior probabilidade de deixar a empresa, focando na implementação de um fluxo de trabalho robusto e na comparação de diferentes algoritmos para encontrar a solução mais eficaz.\n",
        "\n",
        "---\n",
        "**Objetivos do MVP Atual**\n",
        "\n",
        "O desenvolvimento seguirá as melhores práticas da área, contemplando as seguintes etapas:\n",
        "\n",
        "- Pré-processamento Robusto: Utilização de Pipelines para um tratamento de dados consistente e para evitar vazamento de dados (data leakage).\n",
        "\n",
        "- Modelagem Comparativa: Treinamento e avaliação de múltiplos algoritmos, incluindo modelos clássicos (Regressão Logística) e de ensemble (Random Forest, Gradient Boosting).\n",
        "\n",
        "- Otimização de Hiperparâmetros: Aplicação de GridSearchCV para encontrar a melhor configuração de parâmetros para os modelos.\n",
        "\n",
        "- Avaliação Criteriosa: Análise dos modelos com métricas adequadas para dados desbalanceados, com foco no Recall como principal indicador de sucesso.\n",
        "\n",
        "- Interpretabilidade: Extração de Feature Importance para identificar os principais fatores preditivos do churn, gerando insights acionáveis."
      ],
      "metadata": {
        "id": "6tvGspHTcDu6"
      }
    },
    {
      "cell_type": "markdown",
      "source": [
        "## Requisitos do MVP e Resumo da Abordagem\n",
        "\n",
        "Este projeto foi desenvolvido para atender integralmente aos requisitos propostos pela PUC-Rio para o MVP, que incluem:\n",
        "\n",
        "- Carga e preparação dos dados: Carregamento de um dataset público via URL.\n",
        "\n",
        "- Divisão adequada dos dados: Utilização de train_test_split com estratificação para evitar viés na amostragem e prevenir vazamento de dados (data leakage).\n",
        "\n",
        "- Tratamento de dados: Implementação de um pipeline de pré-processamento robusto com ColumnTransformer para tratar features numéricas e categóricas.\n",
        "\n",
        "- Modelagem e Comparação: Avaliação de múltiplas abordagens, incluindo um DummyClassifier como baseline, modelos clássicos (Regressão Logística) e de ensemble (Random Forest, Gradient Boosting).\n",
        "\n",
        "- Otimização de Hiperparâmetros: Uso de GridSearchCV para uma busca sistemática dos melhores parâmetros para os modelos avaliados.\n",
        "\n",
        "- Avaliação com Métricas Adequadas: Análise de performance com foco em Recall, Precisão, F1-Score e AUC-ROC, justificando a escolha das métricas para o contexto de um problema com dados desbalanceados.\n",
        "\n",
        "- Boas Práticas: Definição de RANDOM_STATE para garantir a reprodutibilidade dos resultados e documentação detalhada em todas as etapas.\n",
        "\n",
        "**Estrutura do Raciocínio**\n",
        "\n",
        "A abordagem adotada neste notebook segue uma linha de raciocínio metodológica: iniciamos com uma Análise Exploratória de Dados (EDA) para gerar hipóteses; em seguida, definimos um modelo de *Baseline* para estabelecer um critério mínimo de performance. A partir daí, treinamos, comparamos e otimizamos sistematicamente modelos cada vez mais sofisticados. Por fim, interpretamos o modelo vencedor para extrair insights acionáveis e discutimos os resultados e conclusões do projeto."
      ],
      "metadata": {
        "id": "EmNcyQ_zgAp4"
      }
    },
    {
      "cell_type": "markdown",
      "source": [
        "## Configuração do Ambiente e Importações\n",
        "\n"
      ],
      "metadata": {
        "id": "XWR4kcGgF29x"
      }
    },
    {
      "cell_type": "markdown",
      "source": [
        "Antes de iniciarmos a análise e modelagem, esta seção é dedicada à preparação do ambiente de execução do notebook.\n",
        "\n",
        "- A primeira célula de código abaixo garante que todas as bibliotecas Python necessárias para o projeto, que não vêm instaladas por padrão no ambiente do Google Colab, sejam devidamente instaladas.\n",
        "\n",
        "- A segunda célula realiza a importação de todos os pacotes e módulos que serão utilizados ao longo do projeto, abrangendo desde a manipulação e visualização de dados (com `pandas`, `matplotlib` e `seaborn`) até a construção dos modelos de Machine Learning (com `scikit-learn` e `xgboost`).\n",
        "\n",
        "Adicionalmente, definimos uma semente aleatória global (`RANDOM_STATE`) que será utilizada em todas as etapas que envolvem aleatoriedade (como a divisão dos dados e a inicialização dos modelos). Esta é uma prática fundamental para garantir a **reprodutibilidade** dos resultados apresentados neste trabalho."
      ],
      "metadata": {
        "id": "hFXUP8KchlBW"
      }
    },
    {
      "cell_type": "code",
      "execution_count": 1,
      "metadata": {
        "colab": {
          "base_uri": "https://localhost:8080/"
        },
        "id": "870d79ef",
        "outputId": "1a83f660-98a7-4712-c384-5b6a667ad698"
      },
      "outputs": [
        {
          "output_type": "stream",
          "name": "stdout",
          "text": [
            "Executando em Colab — instalando dependências necessárias...\n",
            "\u001b[2K   \u001b[90m━━━━━━━━━━━━━━━━━━━━━━━━━━━━━━━━━━━━━━━━\u001b[0m \u001b[32m85.7/85.7 kB\u001b[0m \u001b[31m1.6 MB/s\u001b[0m eta \u001b[36m0:00:00\u001b[0m\n",
            "\u001b[?25hDependências instaladas com sucesso.\n"
          ]
        }
      ],
      "source": [
        "# Código para ser executado no Google Colab (instala pacotes necessários se ausentes)\n",
        "# Obrigatório executar essa célula no Colab antes das demais.\n",
        "import sys\n",
        "IN_COLAB = 'google.colab' in sys.modules\n",
        "if IN_COLAB:\n",
        "    print('Executando em Colab — instalando dependências necessárias...')\n",
        "    # instalar pacotes que podem não estar por padrão\n",
        "    !pip install -q xgboost shap category_encoders\n",
        "else:\n",
        "    print('Não detectado Colab. Certifique-se de ter as bibliotecas: pandas, numpy, scikit-learn, xgboost, shap, category_encoders')\n",
        "\n",
        "print(\"Dependências instaladas com sucesso.\")\n"
      ]
    },
    {
      "cell_type": "code",
      "execution_count": 2,
      "metadata": {
        "colab": {
          "base_uri": "https://localhost:8080/"
        },
        "id": "2516e9c0",
        "outputId": "b1cc5b06-66d8-4ef2-9d40-e28b5a13d412"
      },
      "outputs": [
        {
          "output_type": "stream",
          "name": "stdout",
          "text": [
            "Importações realizadas com sucesso.\n"
          ]
        }
      ],
      "source": [
        "# Imports e configuração global\n",
        "RANDOM_STATE = 42\n",
        "import pandas as pd     # importando o Pandas, biblioteca usada para manipulação de dados (DataFrames, tabelas etc.), com o apelido pd\n",
        "import numpy as np      # importando o NumPy, biblioteca para cálculo numérico e arrays, com o apelido np\n",
        "import matplotlib.pyplot as plt     # importando o matplotlib.pyplot, usado para plotagem de gráficos, com o apelido plt\n",
        "import seaborn as sns     # importando o Seaborn, biblioteca de visualização de dados baseada no Matplotlib, com gráficos mais bonitos e intuitivos.\n",
        "\n",
        "# --- Módulos do Scikit-learn para Preparação de Dados e Modelagem ---\n",
        "\n",
        "# Do módulo model_selection, importa classes e funções para dividir dados e otimizar modelos.\n",
        "from sklearn.model_selection import (\n",
        "    train_test_split,      # Função para dividir os dados em conjuntos de treino e teste.\n",
        "    GridSearchCV,          # Ferramenta para otimização de hiperparâmetros (busca em grade).\n",
        "    RandomizedSearchCV,    # Ferramenta para otimização de hiperparâmetros (busca aleatória).\n",
        "    StratifiedKFold        # Estratégia de validação cruzada que mantém a proporção das classes.\n",
        ")\n",
        "# Importa a classe Pipeline para encadear múltiplos passos de pré-processamento e modelagem.\n",
        "from sklearn.pipeline import Pipeline\n",
        "# Importa o ColumnTransformer para aplicar diferentes transformações a diferentes colunas.\n",
        "from sklearn.compose import ColumnTransformer\n",
        "# Importa o SimpleImputer para preencher valores ausentes (NaN) nos dados.\n",
        "from sklearn.impute import SimpleImputer\n",
        "# Do módulo de pré-processamento, importa classes para transformar os dados.\n",
        "from sklearn.preprocessing import (\n",
        "    StandardScaler,        # Padroniza features numéricas (escala).\n",
        "    OneHotEncoder,         # Converte variáveis categóricas em colunas binárias (0/1).\n",
        "    OrdinalEncoder         # Converte variáveis categóricas com uma ordem específica em números.\n",
        ")\n",
        "# Importa o DummyClassifier, um modelo simples que serve como ponto de comparação (baseline).\n",
        "from sklearn.dummy import DummyClassifier\n",
        "# Importa o modelo de Regressão Logística para problemas de classificação.\n",
        "from sklearn.linear_model import LogisticRegression\n",
        "# Importa o modelo Random Forest, um conjunto de árvores de decisão para classificação.\n",
        "from sklearn.ensemble import RandomForestClassifier\n",
        "# Do módulo de métricas, importa funções para avaliar a performance do modelo.\n",
        "from sklearn.metrics import (\n",
        "    accuracy_score,        # Calcula a acurácia.\n",
        "    precision_score,       # Calcula a precisão.\n",
        "    recall_score,          # Calcula o recall (sensibilidade).\n",
        "    f1_score,              # Calcula o F1-Score (média harmônica de precisão e recall).\n",
        "    roc_auc_score,         # Calcula a área sob a curva ROC.\n",
        "    classification_report, # Gera um relatório completo com as principais métricas.\n",
        "    confusion_matrix       # Gera a matriz de confusão.\n",
        ")\n",
        "\n",
        "# --- Configuração Final ---\n",
        "\n",
        "# Define a semente aleatória para o NumPy, garantindo a reprodutibilidade das operações da biblioteca.\n",
        "np.random.seed(RANDOM_STATE)\n",
        "# Imprime uma mensagem para confirmar que a execução da célula foi bem-sucedida.\n",
        "print(\"Importações realizadas com sucesso.\")\n"
      ]
    },
    {
      "cell_type": "markdown",
      "metadata": {
        "id": "37a7c2b2"
      },
      "source": [
        "## 1) Carregamento dos Dados\n",
        "\n",
        "A primeira etapa prática do nosso projeto consiste no carregamento do dataset.\n",
        "\n",
        "Para este MVP, utilizaremos o conhecido **\"IBM HR Analytics Employee Attrition & Performance\"**, um dataset público e amplamente utilizado para problemas de previsão de rotatividade de funcionários, o que nos permite comparar nossos resultados com benchmarks da área.\n",
        "\n",
        "Seguindo os requisitos de reprodutibilidade, o dataset não será carregado de um arquivo local. Em vez disso, ele será importado diretamente de uma **URL pública** que aponta para o arquivo `.csv` em sua versão \"RAW\", hospedado em um repositório do GitHub.\n",
        "\n",
        "A célula de código a seguir utiliza a biblioteca `pandas` para realizar a leitura dos dados e, em seguida, exibe as dimensões do dataset (`shape`) e as cinco primeiras linhas (`head`) para uma verificação inicial da estrutura e para confirmar que o carregamento foi bem-sucedido."
      ]
    },
    {
      "cell_type": "code",
      "execution_count": 3,
      "metadata": {
        "colab": {
          "base_uri": "https://localhost:8080/",
          "height": 360
        },
        "id": "548220a3",
        "outputId": "a84b67b7-a3c4-4094-d4a9-b75e0d242825"
      },
      "outputs": [
        {
          "output_type": "stream",
          "name": "stdout",
          "text": [
            "Shape do dataset: (1470, 35)\n",
            "Colunas: ['\\ufeffAge', 'Attrition', 'BusinessTravel', 'DailyRate', 'Department', 'DistanceFromHome', 'Education', 'EducationField', 'EmployeeCount', 'EmployeeNumber', 'EnvironmentSatisfaction', 'Gender', 'HourlyRate', 'JobInvolvement', 'JobLevel', 'JobRole', 'JobSatisfaction', 'MaritalStatus', 'MonthlyIncome', 'MonthlyRate', 'NumCompaniesWorked', 'Over18', 'OverTime', 'PercentSalaryHike', 'PerformanceRating', 'RelationshipSatisfaction', 'StandardHours', 'StockOptionLevel', 'TotalWorkingYears', 'TrainingTimesLastYear', 'WorkLifeBalance', 'YearsAtCompany', 'YearsInCurrentRole', 'YearsSinceLastPromotion', 'YearsWithCurrManager']\n"
          ]
        },
        {
          "output_type": "execute_result",
          "data": {
            "text/plain": [
              "   ﻿Age Attrition     BusinessTravel  DailyRate              Department  \\\n",
              "0    41       Yes      Travel_Rarely       1102                   Sales   \n",
              "1    49        No  Travel_Frequently        279  Research & Development   \n",
              "2    37       Yes      Travel_Rarely       1373  Research & Development   \n",
              "3    33        No  Travel_Frequently       1392  Research & Development   \n",
              "4    27        No      Travel_Rarely        591  Research & Development   \n",
              "\n",
              "   DistanceFromHome  Education EducationField  EmployeeCount  EmployeeNumber  \\\n",
              "0                 1          2  Life Sciences              1               1   \n",
              "1                 8          1  Life Sciences              1               2   \n",
              "2                 2          2          Other              1               4   \n",
              "3                 3          4  Life Sciences              1               5   \n",
              "4                 2          1        Medical              1               7   \n",
              "\n",
              "   ...  RelationshipSatisfaction StandardHours  StockOptionLevel  \\\n",
              "0  ...                         1            80                 0   \n",
              "1  ...                         4            80                 1   \n",
              "2  ...                         2            80                 0   \n",
              "3  ...                         3            80                 0   \n",
              "4  ...                         4            80                 1   \n",
              "\n",
              "   TotalWorkingYears  TrainingTimesLastYear WorkLifeBalance  YearsAtCompany  \\\n",
              "0                  8                      0               1               6   \n",
              "1                 10                      3               3              10   \n",
              "2                  7                      3               3               0   \n",
              "3                  8                      3               3               8   \n",
              "4                  6                      3               3               2   \n",
              "\n",
              "  YearsInCurrentRole  YearsSinceLastPromotion  YearsWithCurrManager  \n",
              "0                  4                        0                     5  \n",
              "1                  7                        1                     7  \n",
              "2                  0                        0                     0  \n",
              "3                  7                        3                     0  \n",
              "4                  2                        2                     2  \n",
              "\n",
              "[5 rows x 35 columns]"
            ],
            "text/html": [
              "\n",
              "  <div id=\"df-b53491d9-0738-4ef2-b430-fbdb9bd32f78\" class=\"colab-df-container\">\n",
              "    <div>\n",
              "<style scoped>\n",
              "    .dataframe tbody tr th:only-of-type {\n",
              "        vertical-align: middle;\n",
              "    }\n",
              "\n",
              "    .dataframe tbody tr th {\n",
              "        vertical-align: top;\n",
              "    }\n",
              "\n",
              "    .dataframe thead th {\n",
              "        text-align: right;\n",
              "    }\n",
              "</style>\n",
              "<table border=\"1\" class=\"dataframe\">\n",
              "  <thead>\n",
              "    <tr style=\"text-align: right;\">\n",
              "      <th></th>\n",
              "      <th>﻿Age</th>\n",
              "      <th>Attrition</th>\n",
              "      <th>BusinessTravel</th>\n",
              "      <th>DailyRate</th>\n",
              "      <th>Department</th>\n",
              "      <th>DistanceFromHome</th>\n",
              "      <th>Education</th>\n",
              "      <th>EducationField</th>\n",
              "      <th>EmployeeCount</th>\n",
              "      <th>EmployeeNumber</th>\n",
              "      <th>...</th>\n",
              "      <th>RelationshipSatisfaction</th>\n",
              "      <th>StandardHours</th>\n",
              "      <th>StockOptionLevel</th>\n",
              "      <th>TotalWorkingYears</th>\n",
              "      <th>TrainingTimesLastYear</th>\n",
              "      <th>WorkLifeBalance</th>\n",
              "      <th>YearsAtCompany</th>\n",
              "      <th>YearsInCurrentRole</th>\n",
              "      <th>YearsSinceLastPromotion</th>\n",
              "      <th>YearsWithCurrManager</th>\n",
              "    </tr>\n",
              "  </thead>\n",
              "  <tbody>\n",
              "    <tr>\n",
              "      <th>0</th>\n",
              "      <td>41</td>\n",
              "      <td>Yes</td>\n",
              "      <td>Travel_Rarely</td>\n",
              "      <td>1102</td>\n",
              "      <td>Sales</td>\n",
              "      <td>1</td>\n",
              "      <td>2</td>\n",
              "      <td>Life Sciences</td>\n",
              "      <td>1</td>\n",
              "      <td>1</td>\n",
              "      <td>...</td>\n",
              "      <td>1</td>\n",
              "      <td>80</td>\n",
              "      <td>0</td>\n",
              "      <td>8</td>\n",
              "      <td>0</td>\n",
              "      <td>1</td>\n",
              "      <td>6</td>\n",
              "      <td>4</td>\n",
              "      <td>0</td>\n",
              "      <td>5</td>\n",
              "    </tr>\n",
              "    <tr>\n",
              "      <th>1</th>\n",
              "      <td>49</td>\n",
              "      <td>No</td>\n",
              "      <td>Travel_Frequently</td>\n",
              "      <td>279</td>\n",
              "      <td>Research &amp; Development</td>\n",
              "      <td>8</td>\n",
              "      <td>1</td>\n",
              "      <td>Life Sciences</td>\n",
              "      <td>1</td>\n",
              "      <td>2</td>\n",
              "      <td>...</td>\n",
              "      <td>4</td>\n",
              "      <td>80</td>\n",
              "      <td>1</td>\n",
              "      <td>10</td>\n",
              "      <td>3</td>\n",
              "      <td>3</td>\n",
              "      <td>10</td>\n",
              "      <td>7</td>\n",
              "      <td>1</td>\n",
              "      <td>7</td>\n",
              "    </tr>\n",
              "    <tr>\n",
              "      <th>2</th>\n",
              "      <td>37</td>\n",
              "      <td>Yes</td>\n",
              "      <td>Travel_Rarely</td>\n",
              "      <td>1373</td>\n",
              "      <td>Research &amp; Development</td>\n",
              "      <td>2</td>\n",
              "      <td>2</td>\n",
              "      <td>Other</td>\n",
              "      <td>1</td>\n",
              "      <td>4</td>\n",
              "      <td>...</td>\n",
              "      <td>2</td>\n",
              "      <td>80</td>\n",
              "      <td>0</td>\n",
              "      <td>7</td>\n",
              "      <td>3</td>\n",
              "      <td>3</td>\n",
              "      <td>0</td>\n",
              "      <td>0</td>\n",
              "      <td>0</td>\n",
              "      <td>0</td>\n",
              "    </tr>\n",
              "    <tr>\n",
              "      <th>3</th>\n",
              "      <td>33</td>\n",
              "      <td>No</td>\n",
              "      <td>Travel_Frequently</td>\n",
              "      <td>1392</td>\n",
              "      <td>Research &amp; Development</td>\n",
              "      <td>3</td>\n",
              "      <td>4</td>\n",
              "      <td>Life Sciences</td>\n",
              "      <td>1</td>\n",
              "      <td>5</td>\n",
              "      <td>...</td>\n",
              "      <td>3</td>\n",
              "      <td>80</td>\n",
              "      <td>0</td>\n",
              "      <td>8</td>\n",
              "      <td>3</td>\n",
              "      <td>3</td>\n",
              "      <td>8</td>\n",
              "      <td>7</td>\n",
              "      <td>3</td>\n",
              "      <td>0</td>\n",
              "    </tr>\n",
              "    <tr>\n",
              "      <th>4</th>\n",
              "      <td>27</td>\n",
              "      <td>No</td>\n",
              "      <td>Travel_Rarely</td>\n",
              "      <td>591</td>\n",
              "      <td>Research &amp; Development</td>\n",
              "      <td>2</td>\n",
              "      <td>1</td>\n",
              "      <td>Medical</td>\n",
              "      <td>1</td>\n",
              "      <td>7</td>\n",
              "      <td>...</td>\n",
              "      <td>4</td>\n",
              "      <td>80</td>\n",
              "      <td>1</td>\n",
              "      <td>6</td>\n",
              "      <td>3</td>\n",
              "      <td>3</td>\n",
              "      <td>2</td>\n",
              "      <td>2</td>\n",
              "      <td>2</td>\n",
              "      <td>2</td>\n",
              "    </tr>\n",
              "  </tbody>\n",
              "</table>\n",
              "<p>5 rows × 35 columns</p>\n",
              "</div>\n",
              "    <div class=\"colab-df-buttons\">\n",
              "\n",
              "  <div class=\"colab-df-container\">\n",
              "    <button class=\"colab-df-convert\" onclick=\"convertToInteractive('df-b53491d9-0738-4ef2-b430-fbdb9bd32f78')\"\n",
              "            title=\"Convert this dataframe to an interactive table.\"\n",
              "            style=\"display:none;\">\n",
              "\n",
              "  <svg xmlns=\"http://www.w3.org/2000/svg\" height=\"24px\" viewBox=\"0 -960 960 960\">\n",
              "    <path d=\"M120-120v-720h720v720H120Zm60-500h600v-160H180v160Zm220 220h160v-160H400v160Zm0 220h160v-160H400v160ZM180-400h160v-160H180v160Zm440 0h160v-160H620v160ZM180-180h160v-160H180v160Zm440 0h160v-160H620v160Z\"/>\n",
              "  </svg>\n",
              "    </button>\n",
              "\n",
              "  <style>\n",
              "    .colab-df-container {\n",
              "      display:flex;\n",
              "      gap: 12px;\n",
              "    }\n",
              "\n",
              "    .colab-df-convert {\n",
              "      background-color: #E8F0FE;\n",
              "      border: none;\n",
              "      border-radius: 50%;\n",
              "      cursor: pointer;\n",
              "      display: none;\n",
              "      fill: #1967D2;\n",
              "      height: 32px;\n",
              "      padding: 0 0 0 0;\n",
              "      width: 32px;\n",
              "    }\n",
              "\n",
              "    .colab-df-convert:hover {\n",
              "      background-color: #E2EBFA;\n",
              "      box-shadow: 0px 1px 2px rgba(60, 64, 67, 0.3), 0px 1px 3px 1px rgba(60, 64, 67, 0.15);\n",
              "      fill: #174EA6;\n",
              "    }\n",
              "\n",
              "    .colab-df-buttons div {\n",
              "      margin-bottom: 4px;\n",
              "    }\n",
              "\n",
              "    [theme=dark] .colab-df-convert {\n",
              "      background-color: #3B4455;\n",
              "      fill: #D2E3FC;\n",
              "    }\n",
              "\n",
              "    [theme=dark] .colab-df-convert:hover {\n",
              "      background-color: #434B5C;\n",
              "      box-shadow: 0px 1px 3px 1px rgba(0, 0, 0, 0.15);\n",
              "      filter: drop-shadow(0px 1px 2px rgba(0, 0, 0, 0.3));\n",
              "      fill: #FFFFFF;\n",
              "    }\n",
              "  </style>\n",
              "\n",
              "    <script>\n",
              "      const buttonEl =\n",
              "        document.querySelector('#df-b53491d9-0738-4ef2-b430-fbdb9bd32f78 button.colab-df-convert');\n",
              "      buttonEl.style.display =\n",
              "        google.colab.kernel.accessAllowed ? 'block' : 'none';\n",
              "\n",
              "      async function convertToInteractive(key) {\n",
              "        const element = document.querySelector('#df-b53491d9-0738-4ef2-b430-fbdb9bd32f78');\n",
              "        const dataTable =\n",
              "          await google.colab.kernel.invokeFunction('convertToInteractive',\n",
              "                                                    [key], {});\n",
              "        if (!dataTable) return;\n",
              "\n",
              "        const docLinkHtml = 'Like what you see? Visit the ' +\n",
              "          '<a target=\"_blank\" href=https://colab.research.google.com/notebooks/data_table.ipynb>data table notebook</a>'\n",
              "          + ' to learn more about interactive tables.';\n",
              "        element.innerHTML = '';\n",
              "        dataTable['output_type'] = 'display_data';\n",
              "        await google.colab.output.renderOutput(dataTable, element);\n",
              "        const docLink = document.createElement('div');\n",
              "        docLink.innerHTML = docLinkHtml;\n",
              "        element.appendChild(docLink);\n",
              "      }\n",
              "    </script>\n",
              "  </div>\n",
              "\n",
              "\n",
              "    <div id=\"df-78cf3ece-ac28-4d3a-b751-c0b5e98bc249\">\n",
              "      <button class=\"colab-df-quickchart\" onclick=\"quickchart('df-78cf3ece-ac28-4d3a-b751-c0b5e98bc249')\"\n",
              "                title=\"Suggest charts\"\n",
              "                style=\"display:none;\">\n",
              "\n",
              "<svg xmlns=\"http://www.w3.org/2000/svg\" height=\"24px\"viewBox=\"0 0 24 24\"\n",
              "     width=\"24px\">\n",
              "    <g>\n",
              "        <path d=\"M19 3H5c-1.1 0-2 .9-2 2v14c0 1.1.9 2 2 2h14c1.1 0 2-.9 2-2V5c0-1.1-.9-2-2-2zM9 17H7v-7h2v7zm4 0h-2V7h2v10zm4 0h-2v-4h2v4z\"/>\n",
              "    </g>\n",
              "</svg>\n",
              "      </button>\n",
              "\n",
              "<style>\n",
              "  .colab-df-quickchart {\n",
              "      --bg-color: #E8F0FE;\n",
              "      --fill-color: #1967D2;\n",
              "      --hover-bg-color: #E2EBFA;\n",
              "      --hover-fill-color: #174EA6;\n",
              "      --disabled-fill-color: #AAA;\n",
              "      --disabled-bg-color: #DDD;\n",
              "  }\n",
              "\n",
              "  [theme=dark] .colab-df-quickchart {\n",
              "      --bg-color: #3B4455;\n",
              "      --fill-color: #D2E3FC;\n",
              "      --hover-bg-color: #434B5C;\n",
              "      --hover-fill-color: #FFFFFF;\n",
              "      --disabled-bg-color: #3B4455;\n",
              "      --disabled-fill-color: #666;\n",
              "  }\n",
              "\n",
              "  .colab-df-quickchart {\n",
              "    background-color: var(--bg-color);\n",
              "    border: none;\n",
              "    border-radius: 50%;\n",
              "    cursor: pointer;\n",
              "    display: none;\n",
              "    fill: var(--fill-color);\n",
              "    height: 32px;\n",
              "    padding: 0;\n",
              "    width: 32px;\n",
              "  }\n",
              "\n",
              "  .colab-df-quickchart:hover {\n",
              "    background-color: var(--hover-bg-color);\n",
              "    box-shadow: 0 1px 2px rgba(60, 64, 67, 0.3), 0 1px 3px 1px rgba(60, 64, 67, 0.15);\n",
              "    fill: var(--button-hover-fill-color);\n",
              "  }\n",
              "\n",
              "  .colab-df-quickchart-complete:disabled,\n",
              "  .colab-df-quickchart-complete:disabled:hover {\n",
              "    background-color: var(--disabled-bg-color);\n",
              "    fill: var(--disabled-fill-color);\n",
              "    box-shadow: none;\n",
              "  }\n",
              "\n",
              "  .colab-df-spinner {\n",
              "    border: 2px solid var(--fill-color);\n",
              "    border-color: transparent;\n",
              "    border-bottom-color: var(--fill-color);\n",
              "    animation:\n",
              "      spin 1s steps(1) infinite;\n",
              "  }\n",
              "\n",
              "  @keyframes spin {\n",
              "    0% {\n",
              "      border-color: transparent;\n",
              "      border-bottom-color: var(--fill-color);\n",
              "      border-left-color: var(--fill-color);\n",
              "    }\n",
              "    20% {\n",
              "      border-color: transparent;\n",
              "      border-left-color: var(--fill-color);\n",
              "      border-top-color: var(--fill-color);\n",
              "    }\n",
              "    30% {\n",
              "      border-color: transparent;\n",
              "      border-left-color: var(--fill-color);\n",
              "      border-top-color: var(--fill-color);\n",
              "      border-right-color: var(--fill-color);\n",
              "    }\n",
              "    40% {\n",
              "      border-color: transparent;\n",
              "      border-right-color: var(--fill-color);\n",
              "      border-top-color: var(--fill-color);\n",
              "    }\n",
              "    60% {\n",
              "      border-color: transparent;\n",
              "      border-right-color: var(--fill-color);\n",
              "    }\n",
              "    80% {\n",
              "      border-color: transparent;\n",
              "      border-right-color: var(--fill-color);\n",
              "      border-bottom-color: var(--fill-color);\n",
              "    }\n",
              "    90% {\n",
              "      border-color: transparent;\n",
              "      border-bottom-color: var(--fill-color);\n",
              "    }\n",
              "  }\n",
              "</style>\n",
              "\n",
              "      <script>\n",
              "        async function quickchart(key) {\n",
              "          const quickchartButtonEl =\n",
              "            document.querySelector('#' + key + ' button');\n",
              "          quickchartButtonEl.disabled = true;  // To prevent multiple clicks.\n",
              "          quickchartButtonEl.classList.add('colab-df-spinner');\n",
              "          try {\n",
              "            const charts = await google.colab.kernel.invokeFunction(\n",
              "                'suggestCharts', [key], {});\n",
              "          } catch (error) {\n",
              "            console.error('Error during call to suggestCharts:', error);\n",
              "          }\n",
              "          quickchartButtonEl.classList.remove('colab-df-spinner');\n",
              "          quickchartButtonEl.classList.add('colab-df-quickchart-complete');\n",
              "        }\n",
              "        (() => {\n",
              "          let quickchartButtonEl =\n",
              "            document.querySelector('#df-78cf3ece-ac28-4d3a-b751-c0b5e98bc249 button');\n",
              "          quickchartButtonEl.style.display =\n",
              "            google.colab.kernel.accessAllowed ? 'block' : 'none';\n",
              "        })();\n",
              "      </script>\n",
              "    </div>\n",
              "\n",
              "    </div>\n",
              "  </div>\n"
            ],
            "application/vnd.google.colaboratory.intrinsic+json": {
              "type": "dataframe",
              "variable_name": "df"
            }
          },
          "metadata": {},
          "execution_count": 3
        }
      ],
      "source": [
        "#Importando o Pandas\n",
        "import pandas as pd\n",
        "\n",
        "# Carregando dataset através da URL do GitHub\n",
        "url = \"https://raw.githubusercontent.com/vitortmoraes/vitormoraes_mvp_2025-2/refs/heads/main/WA_Fn-UseC_-HR-Employee-Attrition.csv\"\n",
        "\n",
        "# Leitura robusta (detecta separador automaticamente)\n",
        "df = pd.read_csv(url, sep=None, engine=\"python\")\n",
        "print(\"Shape do dataset:\", df.shape)\n",
        "print(\"Colunas:\", df.columns.tolist())\n",
        "df.head()\n"
      ]
    },
    {
      "cell_type": "markdown",
      "metadata": {
        "id": "df4a4629"
      },
      "source": [
        "## 2) Análise exploratória inicial (EDA)\n",
        "\n",
        "Objetivos desta etapa:\n",
        "\n",
        "- Entender formato e tipos das colunas.  \n",
        "- Identificar valores faltantes e duplicados.  \n",
        "- Verificar balanceamento da variável alvo `Attrition`.  \n",
        "- Visualizar distribuições e correlações iniciais.\n",
        "\n",
        "Explicação: entender a base é fundamental antes de qualquer modelagem; decisões de limpeza e transformação dependem disso."
      ]
    },
    {
      "cell_type": "markdown",
      "source": [
        "#### **2.1. Visão Geral e Tipos de Dados**\n",
        "\n",
        "Começamos com o comando `.info()` para ter uma visão geral da estrutura do dataset, incluindo o número de entradas, a quantidade de colunas, os tipos de dados de cada coluna e a presença de valores nulos."
      ],
      "metadata": {
        "id": "P4wLhKPtlPLq"
      }
    },
    {
      "cell_type": "code",
      "source": [
        "# Informações gerais do DataFrame\n",
        "print('Info:')\n",
        "display(df.info())"
      ],
      "metadata": {
        "id": "zd0TfFwmlTOy",
        "colab": {
          "base_uri": "https://localhost:8080/",
          "height": 781
        },
        "outputId": "61c78629-4c37-425c-83f4-2da572980537"
      },
      "execution_count": 4,
      "outputs": [
        {
          "output_type": "stream",
          "name": "stdout",
          "text": [
            "Info:\n",
            "<class 'pandas.core.frame.DataFrame'>\n",
            "RangeIndex: 1470 entries, 0 to 1469\n",
            "Data columns (total 35 columns):\n",
            " #   Column                    Non-Null Count  Dtype \n",
            "---  ------                    --------------  ----- \n",
            " 0   ﻿Age                      1470 non-null   int64 \n",
            " 1   Attrition                 1470 non-null   object\n",
            " 2   BusinessTravel            1470 non-null   object\n",
            " 3   DailyRate                 1470 non-null   int64 \n",
            " 4   Department                1470 non-null   object\n",
            " 5   DistanceFromHome          1470 non-null   int64 \n",
            " 6   Education                 1470 non-null   int64 \n",
            " 7   EducationField            1470 non-null   object\n",
            " 8   EmployeeCount             1470 non-null   int64 \n",
            " 9   EmployeeNumber            1470 non-null   int64 \n",
            " 10  EnvironmentSatisfaction   1470 non-null   int64 \n",
            " 11  Gender                    1470 non-null   object\n",
            " 12  HourlyRate                1470 non-null   int64 \n",
            " 13  JobInvolvement            1470 non-null   int64 \n",
            " 14  JobLevel                  1470 non-null   int64 \n",
            " 15  JobRole                   1470 non-null   object\n",
            " 16  JobSatisfaction           1470 non-null   int64 \n",
            " 17  MaritalStatus             1470 non-null   object\n",
            " 18  MonthlyIncome             1470 non-null   int64 \n",
            " 19  MonthlyRate               1470 non-null   int64 \n",
            " 20  NumCompaniesWorked        1470 non-null   int64 \n",
            " 21  Over18                    1470 non-null   object\n",
            " 22  OverTime                  1470 non-null   object\n",
            " 23  PercentSalaryHike         1470 non-null   int64 \n",
            " 24  PerformanceRating         1470 non-null   int64 \n",
            " 25  RelationshipSatisfaction  1470 non-null   int64 \n",
            " 26  StandardHours             1470 non-null   int64 \n",
            " 27  StockOptionLevel          1470 non-null   int64 \n",
            " 28  TotalWorkingYears         1470 non-null   int64 \n",
            " 29  TrainingTimesLastYear     1470 non-null   int64 \n",
            " 30  WorkLifeBalance           1470 non-null   int64 \n",
            " 31  YearsAtCompany            1470 non-null   int64 \n",
            " 32  YearsInCurrentRole        1470 non-null   int64 \n",
            " 33  YearsSinceLastPromotion   1470 non-null   int64 \n",
            " 34  YearsWithCurrManager      1470 non-null   int64 \n",
            "dtypes: int64(26), object(9)\n",
            "memory usage: 402.1+ KB\n"
          ]
        },
        {
          "output_type": "display_data",
          "data": {
            "text/plain": [
              "None"
            ]
          },
          "metadata": {}
        }
      ]
    },
    {
      "cell_type": "markdown",
      "source": [
        "**Análise:**\n",
        "* O dataset possui **1470 registros** (funcionários) e **35 colunas**.\n",
        "* Um ponto muito positivo é a **ausência de valores nulos**, o que simplifica a etapa de pré-processamento.\n",
        "* Temos **26 colunas numéricas** (`int64`) e **9 colunas categóricas** (`object`), que precisarão ser tratadas para a modelagem."
      ],
      "metadata": {
        "id": "SJtZbzTQlWry"
      }
    },
    {
      "cell_type": "markdown",
      "source": [
        "#### **2.2. Resumo Estatístico**\n",
        "\n",
        "O comando `.describe()` nos fornece um resumo estatístico das colunas numéricas, como média, desvio padrão, valores mínimos e máximos, e os quartis. Isso nos ajuda a entender a distribuição e a escala de cada variável."
      ],
      "metadata": {
        "id": "SjBNmqJcl_l6"
      }
    },
    {
      "cell_type": "code",
      "source": [
        "# Resumo estatístico para colunas numéricas\n",
        "df.describe().T"
      ],
      "metadata": {
        "id": "WbCbUhR0mAo6",
        "colab": {
          "base_uri": "https://localhost:8080/",
          "height": 865
        },
        "outputId": "2d2edf4b-57a3-4de0-87f4-667335bd8c26"
      },
      "execution_count": 5,
      "outputs": [
        {
          "output_type": "execute_result",
          "data": {
            "text/plain": [
              "                           count          mean          std     min      25%  \\\n",
              "﻿Age                      1470.0     36.923810     9.135373    18.0    30.00   \n",
              "DailyRate                 1470.0    802.485714   403.509100   102.0   465.00   \n",
              "DistanceFromHome          1470.0      9.192517     8.106864     1.0     2.00   \n",
              "Education                 1470.0      2.912925     1.024165     1.0     2.00   \n",
              "EmployeeCount             1470.0      1.000000     0.000000     1.0     1.00   \n",
              "EmployeeNumber            1470.0   1024.865306   602.024335     1.0   491.25   \n",
              "EnvironmentSatisfaction   1470.0      2.721769     1.093082     1.0     2.00   \n",
              "HourlyRate                1470.0     65.891156    20.329428    30.0    48.00   \n",
              "JobInvolvement            1470.0      2.729932     0.711561     1.0     2.00   \n",
              "JobLevel                  1470.0      2.063946     1.106940     1.0     1.00   \n",
              "JobSatisfaction           1470.0      2.728571     1.102846     1.0     2.00   \n",
              "MonthlyIncome             1470.0   6502.931293  4707.956783  1009.0  2911.00   \n",
              "MonthlyRate               1470.0  14313.103401  7117.786044  2094.0  8047.00   \n",
              "NumCompaniesWorked        1470.0      2.693197     2.498009     0.0     1.00   \n",
              "PercentSalaryHike         1470.0     15.209524     3.659938    11.0    12.00   \n",
              "PerformanceRating         1470.0      3.153741     0.360824     3.0     3.00   \n",
              "RelationshipSatisfaction  1470.0      2.712245     1.081209     1.0     2.00   \n",
              "StandardHours             1470.0     80.000000     0.000000    80.0    80.00   \n",
              "StockOptionLevel          1470.0      0.793878     0.852077     0.0     0.00   \n",
              "TotalWorkingYears         1470.0     11.279592     7.780782     0.0     6.00   \n",
              "TrainingTimesLastYear     1470.0      2.799320     1.289271     0.0     2.00   \n",
              "WorkLifeBalance           1470.0      2.761224     0.706476     1.0     2.00   \n",
              "YearsAtCompany            1470.0      7.008163     6.126525     0.0     3.00   \n",
              "YearsInCurrentRole        1470.0      4.229252     3.623137     0.0     2.00   \n",
              "YearsSinceLastPromotion   1470.0      2.187755     3.222430     0.0     0.00   \n",
              "YearsWithCurrManager      1470.0      4.123129     3.568136     0.0     2.00   \n",
              "\n",
              "                              50%       75%      max  \n",
              "﻿Age                         36.0     43.00     60.0  \n",
              "DailyRate                   802.0   1157.00   1499.0  \n",
              "DistanceFromHome              7.0     14.00     29.0  \n",
              "Education                     3.0      4.00      5.0  \n",
              "EmployeeCount                 1.0      1.00      1.0  \n",
              "EmployeeNumber             1020.5   1555.75   2068.0  \n",
              "EnvironmentSatisfaction       3.0      4.00      4.0  \n",
              "HourlyRate                   66.0     83.75    100.0  \n",
              "JobInvolvement                3.0      3.00      4.0  \n",
              "JobLevel                      2.0      3.00      5.0  \n",
              "JobSatisfaction               3.0      4.00      4.0  \n",
              "MonthlyIncome              4919.0   8379.00  19999.0  \n",
              "MonthlyRate               14235.5  20461.50  26999.0  \n",
              "NumCompaniesWorked            2.0      4.00      9.0  \n",
              "PercentSalaryHike            14.0     18.00     25.0  \n",
              "PerformanceRating             3.0      3.00      4.0  \n",
              "RelationshipSatisfaction      3.0      4.00      4.0  \n",
              "StandardHours                80.0     80.00     80.0  \n",
              "StockOptionLevel              1.0      1.00      3.0  \n",
              "TotalWorkingYears            10.0     15.00     40.0  \n",
              "TrainingTimesLastYear         3.0      3.00      6.0  \n",
              "WorkLifeBalance               3.0      3.00      4.0  \n",
              "YearsAtCompany                5.0      9.00     40.0  \n",
              "YearsInCurrentRole            3.0      7.00     18.0  \n",
              "YearsSinceLastPromotion       1.0      3.00     15.0  \n",
              "YearsWithCurrManager          3.0      7.00     17.0  "
            ],
            "text/html": [
              "\n",
              "  <div id=\"df-5f00be0a-6932-46c0-9c99-798777d00497\" class=\"colab-df-container\">\n",
              "    <div>\n",
              "<style scoped>\n",
              "    .dataframe tbody tr th:only-of-type {\n",
              "        vertical-align: middle;\n",
              "    }\n",
              "\n",
              "    .dataframe tbody tr th {\n",
              "        vertical-align: top;\n",
              "    }\n",
              "\n",
              "    .dataframe thead th {\n",
              "        text-align: right;\n",
              "    }\n",
              "</style>\n",
              "<table border=\"1\" class=\"dataframe\">\n",
              "  <thead>\n",
              "    <tr style=\"text-align: right;\">\n",
              "      <th></th>\n",
              "      <th>count</th>\n",
              "      <th>mean</th>\n",
              "      <th>std</th>\n",
              "      <th>min</th>\n",
              "      <th>25%</th>\n",
              "      <th>50%</th>\n",
              "      <th>75%</th>\n",
              "      <th>max</th>\n",
              "    </tr>\n",
              "  </thead>\n",
              "  <tbody>\n",
              "    <tr>\n",
              "      <th>﻿Age</th>\n",
              "      <td>1470.0</td>\n",
              "      <td>36.923810</td>\n",
              "      <td>9.135373</td>\n",
              "      <td>18.0</td>\n",
              "      <td>30.00</td>\n",
              "      <td>36.0</td>\n",
              "      <td>43.00</td>\n",
              "      <td>60.0</td>\n",
              "    </tr>\n",
              "    <tr>\n",
              "      <th>DailyRate</th>\n",
              "      <td>1470.0</td>\n",
              "      <td>802.485714</td>\n",
              "      <td>403.509100</td>\n",
              "      <td>102.0</td>\n",
              "      <td>465.00</td>\n",
              "      <td>802.0</td>\n",
              "      <td>1157.00</td>\n",
              "      <td>1499.0</td>\n",
              "    </tr>\n",
              "    <tr>\n",
              "      <th>DistanceFromHome</th>\n",
              "      <td>1470.0</td>\n",
              "      <td>9.192517</td>\n",
              "      <td>8.106864</td>\n",
              "      <td>1.0</td>\n",
              "      <td>2.00</td>\n",
              "      <td>7.0</td>\n",
              "      <td>14.00</td>\n",
              "      <td>29.0</td>\n",
              "    </tr>\n",
              "    <tr>\n",
              "      <th>Education</th>\n",
              "      <td>1470.0</td>\n",
              "      <td>2.912925</td>\n",
              "      <td>1.024165</td>\n",
              "      <td>1.0</td>\n",
              "      <td>2.00</td>\n",
              "      <td>3.0</td>\n",
              "      <td>4.00</td>\n",
              "      <td>5.0</td>\n",
              "    </tr>\n",
              "    <tr>\n",
              "      <th>EmployeeCount</th>\n",
              "      <td>1470.0</td>\n",
              "      <td>1.000000</td>\n",
              "      <td>0.000000</td>\n",
              "      <td>1.0</td>\n",
              "      <td>1.00</td>\n",
              "      <td>1.0</td>\n",
              "      <td>1.00</td>\n",
              "      <td>1.0</td>\n",
              "    </tr>\n",
              "    <tr>\n",
              "      <th>EmployeeNumber</th>\n",
              "      <td>1470.0</td>\n",
              "      <td>1024.865306</td>\n",
              "      <td>602.024335</td>\n",
              "      <td>1.0</td>\n",
              "      <td>491.25</td>\n",
              "      <td>1020.5</td>\n",
              "      <td>1555.75</td>\n",
              "      <td>2068.0</td>\n",
              "    </tr>\n",
              "    <tr>\n",
              "      <th>EnvironmentSatisfaction</th>\n",
              "      <td>1470.0</td>\n",
              "      <td>2.721769</td>\n",
              "      <td>1.093082</td>\n",
              "      <td>1.0</td>\n",
              "      <td>2.00</td>\n",
              "      <td>3.0</td>\n",
              "      <td>4.00</td>\n",
              "      <td>4.0</td>\n",
              "    </tr>\n",
              "    <tr>\n",
              "      <th>HourlyRate</th>\n",
              "      <td>1470.0</td>\n",
              "      <td>65.891156</td>\n",
              "      <td>20.329428</td>\n",
              "      <td>30.0</td>\n",
              "      <td>48.00</td>\n",
              "      <td>66.0</td>\n",
              "      <td>83.75</td>\n",
              "      <td>100.0</td>\n",
              "    </tr>\n",
              "    <tr>\n",
              "      <th>JobInvolvement</th>\n",
              "      <td>1470.0</td>\n",
              "      <td>2.729932</td>\n",
              "      <td>0.711561</td>\n",
              "      <td>1.0</td>\n",
              "      <td>2.00</td>\n",
              "      <td>3.0</td>\n",
              "      <td>3.00</td>\n",
              "      <td>4.0</td>\n",
              "    </tr>\n",
              "    <tr>\n",
              "      <th>JobLevel</th>\n",
              "      <td>1470.0</td>\n",
              "      <td>2.063946</td>\n",
              "      <td>1.106940</td>\n",
              "      <td>1.0</td>\n",
              "      <td>1.00</td>\n",
              "      <td>2.0</td>\n",
              "      <td>3.00</td>\n",
              "      <td>5.0</td>\n",
              "    </tr>\n",
              "    <tr>\n",
              "      <th>JobSatisfaction</th>\n",
              "      <td>1470.0</td>\n",
              "      <td>2.728571</td>\n",
              "      <td>1.102846</td>\n",
              "      <td>1.0</td>\n",
              "      <td>2.00</td>\n",
              "      <td>3.0</td>\n",
              "      <td>4.00</td>\n",
              "      <td>4.0</td>\n",
              "    </tr>\n",
              "    <tr>\n",
              "      <th>MonthlyIncome</th>\n",
              "      <td>1470.0</td>\n",
              "      <td>6502.931293</td>\n",
              "      <td>4707.956783</td>\n",
              "      <td>1009.0</td>\n",
              "      <td>2911.00</td>\n",
              "      <td>4919.0</td>\n",
              "      <td>8379.00</td>\n",
              "      <td>19999.0</td>\n",
              "    </tr>\n",
              "    <tr>\n",
              "      <th>MonthlyRate</th>\n",
              "      <td>1470.0</td>\n",
              "      <td>14313.103401</td>\n",
              "      <td>7117.786044</td>\n",
              "      <td>2094.0</td>\n",
              "      <td>8047.00</td>\n",
              "      <td>14235.5</td>\n",
              "      <td>20461.50</td>\n",
              "      <td>26999.0</td>\n",
              "    </tr>\n",
              "    <tr>\n",
              "      <th>NumCompaniesWorked</th>\n",
              "      <td>1470.0</td>\n",
              "      <td>2.693197</td>\n",
              "      <td>2.498009</td>\n",
              "      <td>0.0</td>\n",
              "      <td>1.00</td>\n",
              "      <td>2.0</td>\n",
              "      <td>4.00</td>\n",
              "      <td>9.0</td>\n",
              "    </tr>\n",
              "    <tr>\n",
              "      <th>PercentSalaryHike</th>\n",
              "      <td>1470.0</td>\n",
              "      <td>15.209524</td>\n",
              "      <td>3.659938</td>\n",
              "      <td>11.0</td>\n",
              "      <td>12.00</td>\n",
              "      <td>14.0</td>\n",
              "      <td>18.00</td>\n",
              "      <td>25.0</td>\n",
              "    </tr>\n",
              "    <tr>\n",
              "      <th>PerformanceRating</th>\n",
              "      <td>1470.0</td>\n",
              "      <td>3.153741</td>\n",
              "      <td>0.360824</td>\n",
              "      <td>3.0</td>\n",
              "      <td>3.00</td>\n",
              "      <td>3.0</td>\n",
              "      <td>3.00</td>\n",
              "      <td>4.0</td>\n",
              "    </tr>\n",
              "    <tr>\n",
              "      <th>RelationshipSatisfaction</th>\n",
              "      <td>1470.0</td>\n",
              "      <td>2.712245</td>\n",
              "      <td>1.081209</td>\n",
              "      <td>1.0</td>\n",
              "      <td>2.00</td>\n",
              "      <td>3.0</td>\n",
              "      <td>4.00</td>\n",
              "      <td>4.0</td>\n",
              "    </tr>\n",
              "    <tr>\n",
              "      <th>StandardHours</th>\n",
              "      <td>1470.0</td>\n",
              "      <td>80.000000</td>\n",
              "      <td>0.000000</td>\n",
              "      <td>80.0</td>\n",
              "      <td>80.00</td>\n",
              "      <td>80.0</td>\n",
              "      <td>80.00</td>\n",
              "      <td>80.0</td>\n",
              "    </tr>\n",
              "    <tr>\n",
              "      <th>StockOptionLevel</th>\n",
              "      <td>1470.0</td>\n",
              "      <td>0.793878</td>\n",
              "      <td>0.852077</td>\n",
              "      <td>0.0</td>\n",
              "      <td>0.00</td>\n",
              "      <td>1.0</td>\n",
              "      <td>1.00</td>\n",
              "      <td>3.0</td>\n",
              "    </tr>\n",
              "    <tr>\n",
              "      <th>TotalWorkingYears</th>\n",
              "      <td>1470.0</td>\n",
              "      <td>11.279592</td>\n",
              "      <td>7.780782</td>\n",
              "      <td>0.0</td>\n",
              "      <td>6.00</td>\n",
              "      <td>10.0</td>\n",
              "      <td>15.00</td>\n",
              "      <td>40.0</td>\n",
              "    </tr>\n",
              "    <tr>\n",
              "      <th>TrainingTimesLastYear</th>\n",
              "      <td>1470.0</td>\n",
              "      <td>2.799320</td>\n",
              "      <td>1.289271</td>\n",
              "      <td>0.0</td>\n",
              "      <td>2.00</td>\n",
              "      <td>3.0</td>\n",
              "      <td>3.00</td>\n",
              "      <td>6.0</td>\n",
              "    </tr>\n",
              "    <tr>\n",
              "      <th>WorkLifeBalance</th>\n",
              "      <td>1470.0</td>\n",
              "      <td>2.761224</td>\n",
              "      <td>0.706476</td>\n",
              "      <td>1.0</td>\n",
              "      <td>2.00</td>\n",
              "      <td>3.0</td>\n",
              "      <td>3.00</td>\n",
              "      <td>4.0</td>\n",
              "    </tr>\n",
              "    <tr>\n",
              "      <th>YearsAtCompany</th>\n",
              "      <td>1470.0</td>\n",
              "      <td>7.008163</td>\n",
              "      <td>6.126525</td>\n",
              "      <td>0.0</td>\n",
              "      <td>3.00</td>\n",
              "      <td>5.0</td>\n",
              "      <td>9.00</td>\n",
              "      <td>40.0</td>\n",
              "    </tr>\n",
              "    <tr>\n",
              "      <th>YearsInCurrentRole</th>\n",
              "      <td>1470.0</td>\n",
              "      <td>4.229252</td>\n",
              "      <td>3.623137</td>\n",
              "      <td>0.0</td>\n",
              "      <td>2.00</td>\n",
              "      <td>3.0</td>\n",
              "      <td>7.00</td>\n",
              "      <td>18.0</td>\n",
              "    </tr>\n",
              "    <tr>\n",
              "      <th>YearsSinceLastPromotion</th>\n",
              "      <td>1470.0</td>\n",
              "      <td>2.187755</td>\n",
              "      <td>3.222430</td>\n",
              "      <td>0.0</td>\n",
              "      <td>0.00</td>\n",
              "      <td>1.0</td>\n",
              "      <td>3.00</td>\n",
              "      <td>15.0</td>\n",
              "    </tr>\n",
              "    <tr>\n",
              "      <th>YearsWithCurrManager</th>\n",
              "      <td>1470.0</td>\n",
              "      <td>4.123129</td>\n",
              "      <td>3.568136</td>\n",
              "      <td>0.0</td>\n",
              "      <td>2.00</td>\n",
              "      <td>3.0</td>\n",
              "      <td>7.00</td>\n",
              "      <td>17.0</td>\n",
              "    </tr>\n",
              "  </tbody>\n",
              "</table>\n",
              "</div>\n",
              "    <div class=\"colab-df-buttons\">\n",
              "\n",
              "  <div class=\"colab-df-container\">\n",
              "    <button class=\"colab-df-convert\" onclick=\"convertToInteractive('df-5f00be0a-6932-46c0-9c99-798777d00497')\"\n",
              "            title=\"Convert this dataframe to an interactive table.\"\n",
              "            style=\"display:none;\">\n",
              "\n",
              "  <svg xmlns=\"http://www.w3.org/2000/svg\" height=\"24px\" viewBox=\"0 -960 960 960\">\n",
              "    <path d=\"M120-120v-720h720v720H120Zm60-500h600v-160H180v160Zm220 220h160v-160H400v160Zm0 220h160v-160H400v160ZM180-400h160v-160H180v160Zm440 0h160v-160H620v160ZM180-180h160v-160H180v160Zm440 0h160v-160H620v160Z\"/>\n",
              "  </svg>\n",
              "    </button>\n",
              "\n",
              "  <style>\n",
              "    .colab-df-container {\n",
              "      display:flex;\n",
              "      gap: 12px;\n",
              "    }\n",
              "\n",
              "    .colab-df-convert {\n",
              "      background-color: #E8F0FE;\n",
              "      border: none;\n",
              "      border-radius: 50%;\n",
              "      cursor: pointer;\n",
              "      display: none;\n",
              "      fill: #1967D2;\n",
              "      height: 32px;\n",
              "      padding: 0 0 0 0;\n",
              "      width: 32px;\n",
              "    }\n",
              "\n",
              "    .colab-df-convert:hover {\n",
              "      background-color: #E2EBFA;\n",
              "      box-shadow: 0px 1px 2px rgba(60, 64, 67, 0.3), 0px 1px 3px 1px rgba(60, 64, 67, 0.15);\n",
              "      fill: #174EA6;\n",
              "    }\n",
              "\n",
              "    .colab-df-buttons div {\n",
              "      margin-bottom: 4px;\n",
              "    }\n",
              "\n",
              "    [theme=dark] .colab-df-convert {\n",
              "      background-color: #3B4455;\n",
              "      fill: #D2E3FC;\n",
              "    }\n",
              "\n",
              "    [theme=dark] .colab-df-convert:hover {\n",
              "      background-color: #434B5C;\n",
              "      box-shadow: 0px 1px 3px 1px rgba(0, 0, 0, 0.15);\n",
              "      filter: drop-shadow(0px 1px 2px rgba(0, 0, 0, 0.3));\n",
              "      fill: #FFFFFF;\n",
              "    }\n",
              "  </style>\n",
              "\n",
              "    <script>\n",
              "      const buttonEl =\n",
              "        document.querySelector('#df-5f00be0a-6932-46c0-9c99-798777d00497 button.colab-df-convert');\n",
              "      buttonEl.style.display =\n",
              "        google.colab.kernel.accessAllowed ? 'block' : 'none';\n",
              "\n",
              "      async function convertToInteractive(key) {\n",
              "        const element = document.querySelector('#df-5f00be0a-6932-46c0-9c99-798777d00497');\n",
              "        const dataTable =\n",
              "          await google.colab.kernel.invokeFunction('convertToInteractive',\n",
              "                                                    [key], {});\n",
              "        if (!dataTable) return;\n",
              "\n",
              "        const docLinkHtml = 'Like what you see? Visit the ' +\n",
              "          '<a target=\"_blank\" href=https://colab.research.google.com/notebooks/data_table.ipynb>data table notebook</a>'\n",
              "          + ' to learn more about interactive tables.';\n",
              "        element.innerHTML = '';\n",
              "        dataTable['output_type'] = 'display_data';\n",
              "        await google.colab.output.renderOutput(dataTable, element);\n",
              "        const docLink = document.createElement('div');\n",
              "        docLink.innerHTML = docLinkHtml;\n",
              "        element.appendChild(docLink);\n",
              "      }\n",
              "    </script>\n",
              "  </div>\n",
              "\n",
              "\n",
              "    <div id=\"df-78407815-59aa-4eac-83ad-af740aabe00f\">\n",
              "      <button class=\"colab-df-quickchart\" onclick=\"quickchart('df-78407815-59aa-4eac-83ad-af740aabe00f')\"\n",
              "                title=\"Suggest charts\"\n",
              "                style=\"display:none;\">\n",
              "\n",
              "<svg xmlns=\"http://www.w3.org/2000/svg\" height=\"24px\"viewBox=\"0 0 24 24\"\n",
              "     width=\"24px\">\n",
              "    <g>\n",
              "        <path d=\"M19 3H5c-1.1 0-2 .9-2 2v14c0 1.1.9 2 2 2h14c1.1 0 2-.9 2-2V5c0-1.1-.9-2-2-2zM9 17H7v-7h2v7zm4 0h-2V7h2v10zm4 0h-2v-4h2v4z\"/>\n",
              "    </g>\n",
              "</svg>\n",
              "      </button>\n",
              "\n",
              "<style>\n",
              "  .colab-df-quickchart {\n",
              "      --bg-color: #E8F0FE;\n",
              "      --fill-color: #1967D2;\n",
              "      --hover-bg-color: #E2EBFA;\n",
              "      --hover-fill-color: #174EA6;\n",
              "      --disabled-fill-color: #AAA;\n",
              "      --disabled-bg-color: #DDD;\n",
              "  }\n",
              "\n",
              "  [theme=dark] .colab-df-quickchart {\n",
              "      --bg-color: #3B4455;\n",
              "      --fill-color: #D2E3FC;\n",
              "      --hover-bg-color: #434B5C;\n",
              "      --hover-fill-color: #FFFFFF;\n",
              "      --disabled-bg-color: #3B4455;\n",
              "      --disabled-fill-color: #666;\n",
              "  }\n",
              "\n",
              "  .colab-df-quickchart {\n",
              "    background-color: var(--bg-color);\n",
              "    border: none;\n",
              "    border-radius: 50%;\n",
              "    cursor: pointer;\n",
              "    display: none;\n",
              "    fill: var(--fill-color);\n",
              "    height: 32px;\n",
              "    padding: 0;\n",
              "    width: 32px;\n",
              "  }\n",
              "\n",
              "  .colab-df-quickchart:hover {\n",
              "    background-color: var(--hover-bg-color);\n",
              "    box-shadow: 0 1px 2px rgba(60, 64, 67, 0.3), 0 1px 3px 1px rgba(60, 64, 67, 0.15);\n",
              "    fill: var(--button-hover-fill-color);\n",
              "  }\n",
              "\n",
              "  .colab-df-quickchart-complete:disabled,\n",
              "  .colab-df-quickchart-complete:disabled:hover {\n",
              "    background-color: var(--disabled-bg-color);\n",
              "    fill: var(--disabled-fill-color);\n",
              "    box-shadow: none;\n",
              "  }\n",
              "\n",
              "  .colab-df-spinner {\n",
              "    border: 2px solid var(--fill-color);\n",
              "    border-color: transparent;\n",
              "    border-bottom-color: var(--fill-color);\n",
              "    animation:\n",
              "      spin 1s steps(1) infinite;\n",
              "  }\n",
              "\n",
              "  @keyframes spin {\n",
              "    0% {\n",
              "      border-color: transparent;\n",
              "      border-bottom-color: var(--fill-color);\n",
              "      border-left-color: var(--fill-color);\n",
              "    }\n",
              "    20% {\n",
              "      border-color: transparent;\n",
              "      border-left-color: var(--fill-color);\n",
              "      border-top-color: var(--fill-color);\n",
              "    }\n",
              "    30% {\n",
              "      border-color: transparent;\n",
              "      border-left-color: var(--fill-color);\n",
              "      border-top-color: var(--fill-color);\n",
              "      border-right-color: var(--fill-color);\n",
              "    }\n",
              "    40% {\n",
              "      border-color: transparent;\n",
              "      border-right-color: var(--fill-color);\n",
              "      border-top-color: var(--fill-color);\n",
              "    }\n",
              "    60% {\n",
              "      border-color: transparent;\n",
              "      border-right-color: var(--fill-color);\n",
              "    }\n",
              "    80% {\n",
              "      border-color: transparent;\n",
              "      border-right-color: var(--fill-color);\n",
              "      border-bottom-color: var(--fill-color);\n",
              "    }\n",
              "    90% {\n",
              "      border-color: transparent;\n",
              "      border-bottom-color: var(--fill-color);\n",
              "    }\n",
              "  }\n",
              "</style>\n",
              "\n",
              "      <script>\n",
              "        async function quickchart(key) {\n",
              "          const quickchartButtonEl =\n",
              "            document.querySelector('#' + key + ' button');\n",
              "          quickchartButtonEl.disabled = true;  // To prevent multiple clicks.\n",
              "          quickchartButtonEl.classList.add('colab-df-spinner');\n",
              "          try {\n",
              "            const charts = await google.colab.kernel.invokeFunction(\n",
              "                'suggestCharts', [key], {});\n",
              "          } catch (error) {\n",
              "            console.error('Error during call to suggestCharts:', error);\n",
              "          }\n",
              "          quickchartButtonEl.classList.remove('colab-df-spinner');\n",
              "          quickchartButtonEl.classList.add('colab-df-quickchart-complete');\n",
              "        }\n",
              "        (() => {\n",
              "          let quickchartButtonEl =\n",
              "            document.querySelector('#df-78407815-59aa-4eac-83ad-af740aabe00f button');\n",
              "          quickchartButtonEl.style.display =\n",
              "            google.colab.kernel.accessAllowed ? 'block' : 'none';\n",
              "        })();\n",
              "      </script>\n",
              "    </div>\n",
              "\n",
              "    </div>\n",
              "  </div>\n"
            ],
            "application/vnd.google.colaboratory.intrinsic+json": {
              "type": "dataframe",
              "summary": "{\n  \"name\": \"df\",\n  \"rows\": 26,\n  \"fields\": [\n    {\n      \"column\": \"count\",\n      \"properties\": {\n        \"dtype\": \"number\",\n        \"std\": 0.0,\n        \"min\": 1470.0,\n        \"max\": 1470.0,\n        \"num_unique_values\": 1,\n        \"samples\": [\n          1470.0\n        ],\n        \"semantic_type\": \"\",\n        \"description\": \"\"\n      }\n    },\n    {\n      \"column\": \"mean\",\n      \"properties\": {\n        \"dtype\": \"number\",\n        \"std\": 3024.404050457106,\n        \"min\": 0.7938775510204081,\n        \"max\": 14313.103401360544,\n        \"num_unique_values\": 26,\n        \"samples\": [\n          2.7299319727891156\n        ],\n        \"semantic_type\": \"\",\n        \"description\": \"\"\n      }\n    },\n    {\n      \"column\": \"std\",\n      \"properties\": {\n        \"dtype\": \"number\",\n        \"std\": 1636.3952783538134,\n        \"min\": 0.0,\n        \"max\": 7117.786044059973,\n        \"num_unique_values\": 25,\n        \"samples\": [\n          0.7115611429632283\n        ],\n        \"semantic_type\": \"\",\n        \"description\": \"\"\n      }\n    },\n    {\n      \"column\": \"min\",\n      \"properties\": {\n        \"dtype\": \"number\",\n        \"std\": 446.6607058538352,\n        \"min\": 0.0,\n        \"max\": 2094.0,\n        \"num_unique_values\": 10,\n        \"samples\": [\n          3.0\n        ],\n        \"semantic_type\": \"\",\n        \"description\": \"\"\n      }\n    },\n    {\n      \"column\": \"25%\",\n      \"properties\": {\n        \"dtype\": \"number\",\n        \"std\": 1649.8053358654167,\n        \"min\": 0.0,\n        \"max\": 8047.0,\n        \"num_unique_values\": 13,\n        \"samples\": [\n          0.0\n        ],\n        \"semantic_type\": \"\",\n        \"description\": \"\"\n      }\n    },\n    {\n      \"column\": \"50%\",\n      \"properties\": {\n        \"dtype\": \"number\",\n        \"std\": 2906.577304348509,\n        \"min\": 1.0,\n        \"max\": 14235.5,\n        \"num_unique_values\": 14,\n        \"samples\": [\n          14235.5\n        ],\n        \"semantic_type\": \"\",\n        \"description\": \"\"\n      }\n    },\n    {\n      \"column\": \"75%\",\n      \"properties\": {\n        \"dtype\": \"number\",\n        \"std\": 4259.5337209153995,\n        \"min\": 1.0,\n        \"max\": 20461.5,\n        \"num_unique_values\": 15,\n        \"samples\": [\n          20461.5\n        ],\n        \"semantic_type\": \"\",\n        \"description\": \"\"\n      }\n    },\n    {\n      \"column\": \"max\",\n      \"properties\": {\n        \"dtype\": \"number\",\n        \"std\": 6435.066760755836,\n        \"min\": 1.0,\n        \"max\": 26999.0,\n        \"num_unique_values\": 19,\n        \"samples\": [\n          60.0\n        ],\n        \"semantic_type\": \"\",\n        \"description\": \"\"\n      }\n    }\n  ]\n}"
            }
          },
          "metadata": {},
          "execution_count": 5
        }
      ]
    },
    {
      "cell_type": "markdown",
      "source": [
        "**Análise:**\n",
        "* **Idade (`Age`):** A média de idade é de aproximadamente 37 anos, variando de 18 a 60 anos, indicando uma força de trabalho com diversidade de senioridade.\n",
        "* **Renda Mensal (`MonthlyIncome`):** Há uma grande dispersão salarial, com a média em torno de \\$6.500, mas com valores máximos próximos a \\$20.000. O valor do 75º percentil (\\$8.379) é bem menor que o máximo, sugerindo que há um grupo de funcionários com salários consideravelmente mais altos (distribuição assimétrica à direita).\n",
        "* **Colunas Constantes:** Variáveis como `EmployeeCount` e `StandardHours` não possuem variação (desvio padrão `std` é 0). Elas não adicionam informação preditiva e serão removidas no pré-processamento."
      ],
      "metadata": {
        "id": "M3yH2pv6mFpz"
      }
    },
    {
      "cell_type": "markdown",
      "source": [
        "#### **2.3. Análise da Variável Alvo (`Attrition`)**\n",
        "\n",
        "A análise da nossa variável alvo é a etapa mais crítica da EDA. Vamos verificar a contagem e a proporção de cada classe para entender o balanceamento do nosso problema."
      ],
      "metadata": {
        "id": "MSR-7XDYmNzh"
      }
    },
    {
      "cell_type": "code",
      "source": [
        "# Contagem e proporção da variável alvo\n",
        "print(\"Distribuição da variável 'Attrition':\")\n",
        "print(df['Attrition'].value_counts())\n",
        "print(\"\\nProporção:\")\n",
        "print(df['Attrition'].value_counts(normalize=True))\n",
        "\n",
        "# Visualização gráfica\n",
        "plt.figure(figsize=(7, 5))\n",
        "sns.countplot(x='Attrition', data=df)\n",
        "plt.title('Distribuição da Variável Alvo - Attrition')\n",
        "plt.show()"
      ],
      "metadata": {
        "id": "GlJo4ekVmNjS",
        "colab": {
          "base_uri": "https://localhost:8080/",
          "height": 679
        },
        "outputId": "dd699096-adf7-49f3-bf6a-9574ec1f24f8"
      },
      "execution_count": 6,
      "outputs": [
        {
          "output_type": "stream",
          "name": "stdout",
          "text": [
            "Distribuição da variável 'Attrition':\n",
            "Attrition\n",
            "No     1233\n",
            "Yes     237\n",
            "Name: count, dtype: int64\n",
            "\n",
            "Proporção:\n",
            "Attrition\n",
            "No     0.838776\n",
            "Yes    0.161224\n",
            "Name: proportion, dtype: float64\n"
          ]
        },
        {
          "output_type": "display_data",
          "data": {
            "text/plain": [
              "<Figure size 700x500 with 1 Axes>"
            ],
            "image/png": "[encoded data removed]"
          },
          "metadata": {}
        }
      ]
    },
    {
      "cell_type": "markdown",
      "source": [
        "**Análise:**\n",
        "* O resultado mostra um **forte desbalanceamento de classes**:\n",
        "    * **83.9%** dos funcionários **não saíram** da empresa (`No`).\n",
        "    * Apenas **16.1%** dos funcionários **saíram** (`Yes`).\n",
        "* **Implicação para a Modelagem:** Este é um ponto de atenção crucial. Um modelo treinado com dados desbalanceados pode tender a prever sempre a classe majoritária. Portanto, a **acurácia não será uma boa métrica de avaliação**. Deveremos focar em métricas como **Recall, Precisão e F1-Score**, e considerar técnicas para lidar com o desbalanceamento, como o ajuste de pesos (`class_weight`) nos modelos."
      ],
      "metadata": {
        "id": "MzI5IHdvmUzE"
      }
    },
    {
      "cell_type": "markdown",
      "source": [
        "#### **2.4. Análise de Valores Ausentes e Cardinalidade**\n",
        "\n",
        "Para finalizar a análise descritiva, vamos realizar duas verificações importantes:\n",
        "1.  **Valores Ausentes:** Confirmar de forma explícita a contagem de valores nulos (`NaN`) em cada coluna.\n",
        "2.  **Cardinalidade:** Analisar o número de valores únicos por coluna (`nunique`) para entendermos melhor a natureza de cada feature (se é contínua, categórica, ou um identificador)."
      ],
      "metadata": {
        "id": "p9ZbKYR0mt9x"
      }
    },
    {
      "cell_type": "code",
      "source": [
        "# Checar valores ausentes\n",
        "print('Valores ausentes por coluna:')\n",
        "display(df.isna().sum().sort_values(ascending=False).head())\n",
        "\n",
        "print('\\nValores únicos por coluna (amostra das 10 maiores):')\n",
        "display(df.nunique().sort_values(ascending=False).head(10))"
      ],
      "metadata": {
        "id": "7XFMLaGymvjw",
        "colab": {
          "base_uri": "https://localhost:8080/",
          "height": 674
        },
        "outputId": "47082258-9248-42a4-d8a6-ab534a0786b8"
      },
      "execution_count": 7,
      "outputs": [
        {
          "output_type": "stream",
          "name": "stdout",
          "text": [
            "Valores ausentes por coluna:\n"
          ]
        },
        {
          "output_type": "display_data",
          "data": {
            "text/plain": [
              "﻿Age              0\n",
              "Attrition         0\n",
              "BusinessTravel    0\n",
              "DailyRate         0\n",
              "Department        0\n",
              "dtype: int64"
            ],
            "text/html": [
              "<div>\n",
              "<style scoped>\n",
              "    .dataframe tbody tr th:only-of-type {\n",
              "        vertical-align: middle;\n",
              "    }\n",
              "\n",
              "    .dataframe tbody tr th {\n",
              "        vertical-align: top;\n",
              "    }\n",
              "\n",
              "    .dataframe thead th {\n",
              "        text-align: right;\n",
              "    }\n",
              "</style>\n",
              "<table border=\"1\" class=\"dataframe\">\n",
              "  <thead>\n",
              "    <tr style=\"text-align: right;\">\n",
              "      <th></th>\n",
              "      <th>0</th>\n",
              "    </tr>\n",
              "  </thead>\n",
              "  <tbody>\n",
              "    <tr>\n",
              "      <th>﻿Age</th>\n",
              "      <td>0</td>\n",
              "    </tr>\n",
              "    <tr>\n",
              "      <th>Attrition</th>\n",
              "      <td>0</td>\n",
              "    </tr>\n",
              "    <tr>\n",
              "      <th>BusinessTravel</th>\n",
              "      <td>0</td>\n",
              "    </tr>\n",
              "    <tr>\n",
              "      <th>DailyRate</th>\n",
              "      <td>0</td>\n",
              "    </tr>\n",
              "    <tr>\n",
              "      <th>Department</th>\n",
              "      <td>0</td>\n",
              "    </tr>\n",
              "  </tbody>\n",
              "</table>\n",
              "</div><br><label><b>dtype:</b> int64</label>"
            ]
          },
          "metadata": {}
        },
        {
          "output_type": "stream",
          "name": "stdout",
          "text": [
            "\n",
            "Valores únicos por coluna (amostra das 10 maiores):\n"
          ]
        },
        {
          "output_type": "display_data",
          "data": {
            "text/plain": [
              "EmployeeNumber        1470\n",
              "MonthlyRate           1427\n",
              "MonthlyIncome         1349\n",
              "DailyRate              886\n",
              "HourlyRate              71\n",
              "﻿Age                    43\n",
              "TotalWorkingYears       40\n",
              "YearsAtCompany          37\n",
              "DistanceFromHome        29\n",
              "YearsInCurrentRole      19\n",
              "dtype: int64"
            ],
            "text/html": [
              "<div>\n",
              "<style scoped>\n",
              "    .dataframe tbody tr th:only-of-type {\n",
              "        vertical-align: middle;\n",
              "    }\n",
              "\n",
              "    .dataframe tbody tr th {\n",
              "        vertical-align: top;\n",
              "    }\n",
              "\n",
              "    .dataframe thead th {\n",
              "        text-align: right;\n",
              "    }\n",
              "</style>\n",
              "<table border=\"1\" class=\"dataframe\">\n",
              "  <thead>\n",
              "    <tr style=\"text-align: right;\">\n",
              "      <th></th>\n",
              "      <th>0</th>\n",
              "    </tr>\n",
              "  </thead>\n",
              "  <tbody>\n",
              "    <tr>\n",
              "      <th>EmployeeNumber</th>\n",
              "      <td>1470</td>\n",
              "    </tr>\n",
              "    <tr>\n",
              "      <th>MonthlyRate</th>\n",
              "      <td>1427</td>\n",
              "    </tr>\n",
              "    <tr>\n",
              "      <th>MonthlyIncome</th>\n",
              "      <td>1349</td>\n",
              "    </tr>\n",
              "    <tr>\n",
              "      <th>DailyRate</th>\n",
              "      <td>886</td>\n",
              "    </tr>\n",
              "    <tr>\n",
              "      <th>HourlyRate</th>\n",
              "      <td>71</td>\n",
              "    </tr>\n",
              "    <tr>\n",
              "      <th>﻿Age</th>\n",
              "      <td>43</td>\n",
              "    </tr>\n",
              "    <tr>\n",
              "      <th>TotalWorkingYears</th>\n",
              "      <td>40</td>\n",
              "    </tr>\n",
              "    <tr>\n",
              "      <th>YearsAtCompany</th>\n",
              "      <td>37</td>\n",
              "    </tr>\n",
              "    <tr>\n",
              "      <th>DistanceFromHome</th>\n",
              "      <td>29</td>\n",
              "    </tr>\n",
              "    <tr>\n",
              "      <th>YearsInCurrentRole</th>\n",
              "      <td>19</td>\n",
              "    </tr>\n",
              "  </tbody>\n",
              "</table>\n",
              "</div><br><label><b>dtype:</b> int64</label>"
            ]
          },
          "metadata": {}
        }
      ]
    },
    {
      "cell_type": "markdown",
      "source": [
        "**Análise:**\n",
        "* A verificação de valores ausentes confirma o que vimos no `.info()`: **o dataset está completo e não possui dados faltantes**.\n",
        "* A análise de cardinalidade nos mostra que `EmployeeNumber` (com 1470 valores únicos) é um identificador único para cada funcionário e não deve ser usado como feature preditiva. Variáveis como `DailyRate`, `HourlyRate` e `MonthlyIncome` possuem alta cardinalidade, reforçando sua natureza contínua. Em contrapartida, features como `Gender`, `OverTime` e a própria `Attrition` possuem baixa cardinalidade (2 ou 3 valores únicos), confirmando seu perfil categórico."
      ],
      "metadata": {
        "id": "2Rc7xnYAmxHE"
      }
    },
    {
      "cell_type": "markdown",
      "metadata": {
        "id": "9c5a43a2"
      },
      "source": [
        "## 3) Pré-processamento e engenharia de atributos\n",
        "\n",
        "Nesta seção construiremos pipelines específicos para atributos numéricos e categóricos e aplicaremos transformações reprodutíveis.\n",
        "\n",
        "**Por que usar ColumnTransformer e Pipelines?**  \n",
        "- Mantêm o fluxo de transformação e modelagem reproduzível e limpo.  \n",
        "- Evitam vazamento de dados quando usados com CV.  \n",
        "- Facilitam a comparação entre modelos distintos.\n"
      ]
    },
    {
      "cell_type": "code",
      "execution_count": 8,
      "metadata": {
        "colab": {
          "base_uri": "https://localhost:8080/"
        },
        "id": "cae1c13f",
        "outputId": "6932bd40-cb51-4796-852a-212c12e3585a"
      },
      "outputs": [
        {
          "output_type": "stream",
          "name": "stdout",
          "text": [
            "Removendo colunas (se existirem): ['EmployeeCount', 'EmployeeNumber', 'Over18', 'StandardHours']\n",
            "\n",
            "Separando Colunas em Númericas e Categóricas...\n",
            "Numéricas: ['\\ufeffAge', 'DailyRate', 'DistanceFromHome', 'Education', 'EnvironmentSatisfaction', 'HourlyRate', 'JobInvolvement', 'JobLevel', 'JobSatisfaction', 'MonthlyIncome', 'MonthlyRate', 'NumCompaniesWorked', 'PercentSalaryHike', 'PerformanceRating', 'RelationshipSatisfaction', 'StockOptionLevel', 'TotalWorkingYears', 'TrainingTimesLastYear', 'WorkLifeBalance', 'YearsAtCompany', 'YearsInCurrentRole', 'YearsSinceLastPromotion', 'YearsWithCurrManager']\n",
            "Categóricas: ['BusinessTravel', 'Department', 'EducationField', 'Gender', 'JobRole', 'MaritalStatus', 'OverTime']\n"
          ]
        }
      ],
      "source": [
        "# Preparar lista de colunas\n",
        "target = 'Attrition'\n",
        "df = df.copy()\n",
        "# Mapear target para 0/1\n",
        "df[target] = df[target].map({'Yes':1, 'No':0})\n",
        "\n",
        "# remover colunas idênticas/irrelevantes se existirem\n",
        "drop_cols = [c for c in ['EmployeeCount','EmployeeNumber','Over18','StandardHours'] if c in df.columns]\n",
        "print('Removendo colunas (se existirem):', drop_cols)\n",
        "df.drop(columns=drop_cols, inplace=True, errors='ignore')\n",
        "\n",
        "# separar colunas numéricas e categóricas\n",
        "num_cols = df.select_dtypes(include=['int64','float64']).columns.tolist()\n",
        "num_cols = [c for c in num_cols if c != target]\n",
        "cat_cols = df.select_dtypes(include=['object','category']).columns.tolist()\n",
        "\n",
        "print(\"\\nSeparando Colunas em Númericas e Categóricas...\")\n",
        "print('Numéricas:', num_cols)\n",
        "print('Categóricas:', cat_cols)\n"
      ]
    },
    {
      "cell_type": "code",
      "execution_count": 9,
      "metadata": {
        "colab": {
          "base_uri": "https://localhost:8080/"
        },
        "id": "Y0vSPtY4VH1q",
        "outputId": "199e3866-c998-4c79-8909-6498ff27cd29"
      },
      "outputs": [
        {
          "output_type": "stream",
          "name": "stdout",
          "text": [
            "Preprocessor criado com sucesso.\n"
          ]
        }
      ],
      "source": [
        "# --- Início do Bloco de Pré-processamento ---\n",
        "\n",
        "# Construindo transformadores\n",
        "\n",
        "# Define um 'pipeline' (sequência de passos) para tratar as variáveis NUMÉRICAS.\n",
        "numeric_transformer = Pipeline(steps=[\n",
        "    # Passo 1: 'imputer'. Preenche quaisquer valores faltantes (NaN) usando a mediana da coluna.\n",
        "    # A mediana é uma boa escolha pois é robusta a outliers (valores muito extremos).\n",
        "    ('imputer', SimpleImputer(strategy='median')),\n",
        "\n",
        "    # Passo 2: 'scaler'. Padroniza os dados, colocando-os na mesma escala (média 0, desvio padrão 1).\n",
        "    # Isso é crucial para que os modelos não deem mais importância para uma variável só porque ela tem valores maiores.\n",
        "    ('scaler', StandardScaler())\n",
        "])\n",
        "\n",
        "# Define um 'pipeline' (sequência de passos) para tratar as variáveis CATEGÓRICAS (texto).\n",
        "categorical_transformer = Pipeline(steps=[\n",
        "    # Passo 1: 'imputer'. Preenche quaisquer valores faltantes (NaN) usando o valor mais frequente da coluna (a moda).\n",
        "    ('imputer', SimpleImputer(strategy='most_frequent')),\n",
        "\n",
        "    # Passo 2: 'onehot'. Transforma as categorias em colunas numéricas (0s e 1s).\n",
        "    # Ex: a coluna 'Gênero' com ['Masc', 'Fem'] vira duas colunas 'Gênero_Masc' e 'Gênero_Fem'.\n",
        "    # 'handle_unknown='ignore'' evita erros se uma nova categoria aparecer nos dados de teste.\n",
        "    # 'sparse_output=False' garante que o resultado seja uma matriz densa (formato padrão).\n",
        "    ('onehot', OneHotEncoder(handle_unknown='ignore', sparse_output=False))\n",
        "])\n",
        "\n",
        "# Cria o 'pré-processador' principal, que une os dois pipelines acima.\n",
        "# O ColumnTransformer é o responsável por aplicar a transformação certa na coluna certa.\n",
        "preprocessor = ColumnTransformer(\n",
        "    transformers=[\n",
        "        # Aplica o 'numeric_transformer' em todas as colunas listadas na variável 'num_cols'.\n",
        "        ('num', numeric_transformer, num_cols),\n",
        "\n",
        "        # Aplica o 'categorical_transformer' em todas as colunas listadas na variável 'cat_cols'.\n",
        "        ('cat', categorical_transformer, cat_cols)\n",
        "    ],\n",
        "    # 'remainder='drop'' instrui o pré-processador a descartar quaisquer colunas que\n",
        "    # não foram mencionadas em 'num_cols' ou 'cat_cols'.\n",
        "    remainder='drop'\n",
        ")\n",
        "\n",
        "# Imprime uma mensagem de confirmação para sabermos que a célula foi executada com sucesso.\n",
        "print('Preprocessor criado com sucesso.')"
      ]
    },
    {
      "cell_type": "markdown",
      "source": [
        "**Conclusão do Pré-processamento**\n",
        "\n",
        "Ao final desta seção, consolidamos todas as etapas de preparação dos dados em um único e poderoso objeto: o `preprocessor`. Ele encapsula toda a lógica de limpeza, mapeamento da variável alvo, separação de tipos de colunas, imputação de dados ausentes e transformação (padronização para dados numéricos e One-Hot Encoding para categóricos).\n",
        "\n",
        "Nas próximas etapas de modelagem, este objeto `preprocessor` será o primeiro passo em todos os nossos pipelines. Isso garante que, para cada modelo que testarmos (Regressão Logística, Random Forest, etc.), a preparação dos dados será aplicada de forma **idêntica, automática e, crucialmente, sem risco de vazamento de dados (*data leakage*)** durante a validação cruzada.\n",
        "\n",
        "Com os dados devidamente preparados e um fluxo de trabalho de pré-processamento robusto estabelecido, estamos prontos para avançar para a etapa de modelagem e avaliação dos algoritmos de classificação."
      ],
      "metadata": {
        "id": "zWiRVzJpuOA8"
      }
    },
    {
      "cell_type": "markdown",
      "metadata": {
        "id": "eb9e6bb6"
      },
      "source": [
        "## 4) Separação em treino/validação/teste\n",
        "\n",
        "Usamos `train_test_split` estratificado para preservar a proporção da classe alvo.  \n",
        "Algumas práticas: separar em treino+validação e teste final; aqui faremos 80/20 (treino/teste) e dentro do treino usaremos CV.\n"
      ]
    },
    {
      "cell_type": "code",
      "execution_count": 10,
      "metadata": {
        "colab": {
          "base_uri": "https://localhost:8080/",
          "height": 443
        },
        "id": "8584066e",
        "outputId": "feb7e509-352c-40f8-afe6-12f140af1f86"
      },
      "outputs": [
        {
          "output_type": "stream",
          "name": "stdout",
          "text": [
            "Tamanhos:\n",
            "X_train: (1176, 30) X_test: (294, 30)\n",
            "\n",
            "Proporção de classes (treino):\n"
          ]
        },
        {
          "output_type": "display_data",
          "data": {
            "text/plain": [
              "Attrition\n",
              "0    0.838435\n",
              "1    0.161565\n",
              "Name: proportion, dtype: float64"
            ],
            "text/html": [
              "<div>\n",
              "<style scoped>\n",
              "    .dataframe tbody tr th:only-of-type {\n",
              "        vertical-align: middle;\n",
              "    }\n",
              "\n",
              "    .dataframe tbody tr th {\n",
              "        vertical-align: top;\n",
              "    }\n",
              "\n",
              "    .dataframe thead th {\n",
              "        text-align: right;\n",
              "    }\n",
              "</style>\n",
              "<table border=\"1\" class=\"dataframe\">\n",
              "  <thead>\n",
              "    <tr style=\"text-align: right;\">\n",
              "      <th></th>\n",
              "      <th>proportion</th>\n",
              "    </tr>\n",
              "    <tr>\n",
              "      <th>Attrition</th>\n",
              "      <th></th>\n",
              "    </tr>\n",
              "  </thead>\n",
              "  <tbody>\n",
              "    <tr>\n",
              "      <th>0</th>\n",
              "      <td>0.838435</td>\n",
              "    </tr>\n",
              "    <tr>\n",
              "      <th>1</th>\n",
              "      <td>0.161565</td>\n",
              "    </tr>\n",
              "  </tbody>\n",
              "</table>\n",
              "</div><br><label><b>dtype:</b> float64</label>"
            ]
          },
          "metadata": {}
        },
        {
          "output_type": "stream",
          "name": "stdout",
          "text": [
            "\n",
            "Proporção de classes (teste):\n"
          ]
        },
        {
          "output_type": "display_data",
          "data": {
            "text/plain": [
              "Attrition\n",
              "0    0.840136\n",
              "1    0.159864\n",
              "Name: proportion, dtype: float64"
            ],
            "text/html": [
              "<div>\n",
              "<style scoped>\n",
              "    .dataframe tbody tr th:only-of-type {\n",
              "        vertical-align: middle;\n",
              "    }\n",
              "\n",
              "    .dataframe tbody tr th {\n",
              "        vertical-align: top;\n",
              "    }\n",
              "\n",
              "    .dataframe thead th {\n",
              "        text-align: right;\n",
              "    }\n",
              "</style>\n",
              "<table border=\"1\" class=\"dataframe\">\n",
              "  <thead>\n",
              "    <tr style=\"text-align: right;\">\n",
              "      <th></th>\n",
              "      <th>proportion</th>\n",
              "    </tr>\n",
              "    <tr>\n",
              "      <th>Attrition</th>\n",
              "      <th></th>\n",
              "    </tr>\n",
              "  </thead>\n",
              "  <tbody>\n",
              "    <tr>\n",
              "      <th>0</th>\n",
              "      <td>0.840136</td>\n",
              "    </tr>\n",
              "    <tr>\n",
              "      <th>1</th>\n",
              "      <td>0.159864</td>\n",
              "    </tr>\n",
              "  </tbody>\n",
              "</table>\n",
              "</div><br><label><b>dtype:</b> float64</label>"
            ]
          },
          "metadata": {}
        }
      ],
      "source": [
        "# 4) Separação em treino/validação/teste\n",
        "\n",
        "# Definindo a variável alvo (certifique-se que esta linha está correta)\n",
        "target = 'Attrition'\n",
        "\n",
        "# Separando as features (X) e o alvo (y)\n",
        "# Usar [target] garante que o drop funcione corretamente\n",
        "X = df.drop(columns=[target])\n",
        "y = df[target]\n",
        "\n",
        "# Dividindo os dados com estratificação para manter a proporção da variável alvo\n",
        "X_train, X_test, y_train, y_test = train_test_split(X, y, test_size=0.2, stratify=y, random_state=RANDOM_STATE)\n",
        "\n",
        "# Imprimindo os resultados para verificação\n",
        "print('Tamanhos:')\n",
        "print('X_train:', X_train.shape, 'X_test:', X_test.shape)\n",
        "print('\\nProporção de classes (treino):')\n",
        "display(y_train.value_counts(normalize=True))\n",
        "print('\\nProporção de classes (teste):')\n",
        "display(y_test.value_counts(normalize=True))\n"
      ]
    },
    {
      "cell_type": "markdown",
      "metadata": {
        "id": "eltWMImVbxxj"
      },
      "source": [
        "**Análise da Separação dos Dados**\n",
        "\n",
        "Nesta etapa, o dataset foi dividido em conjuntos de treinamento (80%) e teste (20%) utilizando a função train_test_split da biblioteca Scikit-learn. O resultado da execução nos mostra que:\n",
        "\n",
        "- O conjunto de treinamento (X_train) é composto por 1176 amostras e 30 colunas (features). Este será o volume de dados utilizado para ensinar e otimizar nossos modelos.\n",
        "\n",
        "- O conjunto de teste (X_test) contém 294 amostras e as mesmas 30 colunas. Estes dados serão mantidos \"intocados\" até a avaliação final, servindo como uma simulação de dados novos para verificarmos a capacidade de generalização do modelo escolhido.\n",
        "\n",
        "Um parâmetro crucial utilizado na divisão foi o stratify=y. A estratificação garante que a proporção de funcionários que saíram (Attrition = 1) e que ficaram (Attrition = 0) seja a mesma tanto no conjunto de treino quanto no de teste.\n",
        "\n",
        "> A análise das proporções confirma o sucesso desta abordagem:\n",
        "\n",
        "- No conjunto de treino, aproximadamente 16.15% das amostras pertencem à classe 1 (Churn).\n",
        "\n",
        "- No conjunto de teste, a proporção é de 16.15%, idêntica à do treino.\n",
        "\n",
        "Esta consistência é fundamental para evitar vieses e garantir uma avaliação justa e realista do desempenho dos modelos, especialmente em um cenário com dados desbalanceados como o nosso. Com os dados devidamente separados, podemos prosseguir para a etapa de modelagem com a segurança de que nosso processo de avaliação será robusto."
      ]
    },
    {
      "cell_type": "markdown",
      "metadata": {
        "id": "a0d30418"
      },
      "source": [
        "## 5) Estabelecimento do Modelo de Baseline\n",
        "\n",
        "Antes de construir modelos preditivos complexos, é uma boa prática fundamental estabelecer um modelo de referência, ou **baseline**. Este modelo serve como um ponto de comparação: qualquer modelo mais sofisticado só será considerado útil se seu desempenho for comprovadamente superior a este palpite simples.\n",
        "\n",
        "Para este projeto, utilizaremos o `DummyClassifier` com a estratégia `most_frequent`. Este classificador sempre prevê a classe majoritária observada no conjunto de treino (neste caso, \"Não saiu\"), ignorando completamente as features dos funcionários. Ele nos dará a \"nota de corte\" de performance a ser batida.\n"
      ]
    },
    {
      "cell_type": "code",
      "execution_count": 11,
      "metadata": {
        "colab": {
          "base_uri": "https://localhost:8080/"
        },
        "id": "9b9b0651",
        "outputId": "7b5f0ba4-7f29-46cb-fa07-da50d4d31dec"
      },
      "outputs": [
        {
          "output_type": "stream",
          "name": "stdout",
          "text": [
            "Baseline accuracy: 0.8401360544217688\n",
            "              precision    recall  f1-score   support\n",
            "\n",
            "           0       0.84      1.00      0.91       247\n",
            "           1       0.00      0.00      0.00        47\n",
            "\n",
            "    accuracy                           0.84       294\n",
            "   macro avg       0.42      0.50      0.46       294\n",
            "weighted avg       0.71      0.84      0.77       294\n",
            "\n"
          ]
        },
        {
          "output_type": "stream",
          "name": "stderr",
          "text": [
            "/usr/local/lib/python3.12/dist-packages/sklearn/metrics/_classification.py:1565: UndefinedMetricWarning: Precision is ill-defined and being set to 0.0 in labels with no predicted samples. Use `zero_division` parameter to control this behavior.\n",
            "  _warn_prf(average, modifier, f\"{metric.capitalize()} is\", len(result))\n",
            "/usr/local/lib/python3.12/dist-packages/sklearn/metrics/_classification.py:1565: UndefinedMetricWarning: Precision is ill-defined and being set to 0.0 in labels with no predicted samples. Use `zero_division` parameter to control this behavior.\n",
            "  _warn_prf(average, modifier, f\"{metric.capitalize()} is\", len(result))\n",
            "/usr/local/lib/python3.12/dist-packages/sklearn/metrics/_classification.py:1565: UndefinedMetricWarning: Precision is ill-defined and being set to 0.0 in labels with no predicted samples. Use `zero_division` parameter to control this behavior.\n",
            "  _warn_prf(average, modifier, f\"{metric.capitalize()} is\", len(result))\n"
          ]
        }
      ],
      "source": [
        "# Baseline DummyClassifier\n",
        "from sklearn.dummy import DummyClassifier\n",
        "dummy = Pipeline(steps=[('pre', preprocessor), ('clf', DummyClassifier(strategy='most_frequent'))])\n",
        "dummy.fit(X_train, y_train)\n",
        "y_pred_dummy = dummy.predict(X_test)\n",
        "print('Baseline accuracy:', accuracy_score(y_test, y_pred_dummy))\n",
        "print(classification_report(y_test, y_pred_dummy))\n"
      ]
    },
    {
      "cell_type": "code",
      "source": [
        "# Importa a função para dividir os dados em conjuntos de treino and teste.\n",
        "from sklearn.model_selection import train_test_split\n",
        "# Importa o classificador \"Dummy\", um modelo simples que serve como linha de base (baseline).\n",
        "from sklearn.dummy import DummyClassifier\n",
        "# Importa a métrica F1-Score, uma medida de performance que equilibra precisão e recall.\n",
        "from sklearn.metrics import f1_score\n",
        "\n",
        "# --- Preparação dos Dados ---\n",
        "\n",
        "# Define o nome da coluna que queremos prever (nossa variável alvo).\n",
        "target = 'Attrition'\n",
        "# Cria o conjunto de features (X) removendo a coluna alvo do dataframe principal.\n",
        "X = df.drop(columns=[target])\n",
        "# Cria o conjunto com a variável alvo (y) contendo apenas os dados da coluna 'Attrition'.\n",
        "y = df[target]\n",
        "\n",
        "# --- Divisão em Treino e Teste ---\n",
        "\n",
        "# Divide os dados em 80% para treino e 20% para teste.\n",
        "# 'stratify=y' garante que a proporção de funcionários que saíram e ficaram\n",
        "# seja a mesma tanto no conjunto de treino quanto no de teste, o que é crucial para dados desbalanceados.\n",
        "# 'random_state=42' garante que a divisão seja sempre a mesma, tornando o resultado reprodutível.\n",
        "X_train, X_test, y_train, y_test = train_test_split(\n",
        "    X, y, test_size=0.2, stratify=y, random_state=42\n",
        ")\n",
        "\n",
        "# --- Criação e Treinamento do Modelo Baseline ---\n",
        "\n",
        "# Cria uma instância do DummyClassifier.\n",
        "# A estratégia \"most_frequent\" faz com que o modelo sempre preveja a classe mais comum\n",
        "# (neste caso, 'Não saiu'), ignorando todas as outras features.\n",
        "dummy = DummyClassifier(strategy=\"most_frequent\", random_state=42)\n",
        "\n",
        "# \"Treina\" o modelo baseline. Ele apenas aprende qual é a classe mais frequente nos dados de treino.\n",
        "dummy.fit(X_train, y_train)\n",
        "\n",
        "# Faz as previsões no conjunto de teste. O resultado será uma série de previsões, todas com a classe mais comum.\n",
        "y_pred_dummy = dummy.predict(X_test)\n",
        "\n",
        "# --- Avaliação do Modelo ---\n",
        "\n",
        "# Imprime o F1-Score do modelo baseline.\n",
        "# 'average=\"macro\"' calcula o F1 para cada classe (Sim/Não) e tira a média,\n",
        "# tratando ambas as classes com a mesma importância, o que é bom para dados desbalanceados.\n",
        "print(\"Baseline (classe mais frequente) - F1:\", f1_score(y_test, y_pred_dummy, average=\"macro\"))"
      ],
      "metadata": {
        "colab": {
          "base_uri": "https://localhost:8080/"
        },
        "id": "OzzdUeWZ9cjF",
        "outputId": "693d1760-5f0a-430d-f6fe-f96b8bec7d25"
      },
      "execution_count": 12,
      "outputs": [
        {
          "output_type": "stream",
          "name": "stdout",
          "text": [
            "Baseline (classe mais frequente) - F1: 0.4565619223659889\n"
          ]
        }
      ]
    },
    {
      "cell_type": "markdown",
      "metadata": {
        "id": "hEPH8SwWd9rR"
      },
      "source": [
        "### **Análise de Performance do Baseline**\n",
        "\n",
        "A avaliação do modelo baseline nos fornece os seguintes insights críticos:\n",
        "\n",
        "* **Acurácia Enganosa (84%):** O modelo alcançou uma acurácia de aproximadamente 84%. Este valor, embora pareça alto, é perigoso, pois simplesmente reflete a proporção da classe majoritária (\"Não saiu\") em nosso conjunto de dados. Isso demonstra por que a acurácia não é uma métrica confiável para problemas com dados desbalanceados.\n",
        "\n",
        "* **Recall Nulo para a Classe de Interesse (0.00):** Esta é a métrica mais importante. O **Recall** para a classe 1 (\"Sim\") foi de 0.00. Isso significa que o modelo baseline foi **incapaz de identificar um único funcionário que de fato saiu da empresa**.\n",
        "\n",
        "* **Precisão Nula (0.00):** Da mesma forma, a **Precisão** para a classe 1 foi 0.00, pois o modelo nunca arriscou uma previsão positiva. A mensagem de aviso (`UndefinedMetricWarning`) confirma que nenhuma amostra da classe 1 foi prevista.\n",
        "\n",
        "#### **Conclusão da Etapa de Baseline**\n",
        "\n",
        "O modelo baseline, apesar da alta acurácia, é completamente inútil para o objetivo de negócio, que é identificar proativamente os funcionários com risco de churn. Ele cumpre seu papel ao estabelecer que qualquer modelo minimamente viável que construirmos a seguir **precisa, obrigatoriamente, ter um Recall para a classe 1 (\"Churn\") significativamente superior a zero**. Este será o nosso principal indicador de sucesso para as próximas etapas."
      ]
    },
    {
      "cell_type": "markdown",
      "source": [
        "## 6) Comparação Direta de Modelos de Classificação\n",
        "\n",
        "Após estabelecer o desempenho do modelo baseline, partimos para a avaliação de algoritmos mais sofisticados. Para realizar uma comparação direta e justa, criamos um loop que treina e avalia três dos modelos de classificação mais populares: **Regressão Logística, Random Forest e Gradient Boosting.**\n",
        "\n",
        "Cada modelo é inserido em um Pipeline junto com o preprocessor definido anteriormente. Isso garante que todos recebam os dados tratados da mesma forma, permitindo uma comparação imparcial de seus resultados no conjunto de teste.\n",
        "\n",
        "A seguir, são apresentados os relatórios de classificação para cada um."
      ],
      "metadata": {
        "id": "DkarR0JOv9R3"
      }
    },
    {
      "cell_type": "code",
      "source": [
        "# Importa as bibliotecas necessárias para esta célula\n",
        "from sklearn.metrics import classification_report\n",
        "from sklearn.ensemble import GradientBoostingClassifier\n",
        "\n",
        "# Definindo os modelos que serão comparados\n",
        "models = {\n",
        "    \"Regressão Logística\": LogisticRegression(max_iter=1000, random_state=42),\n",
        "    \"Random Forest\": RandomForestClassifier(random_state=42),\n",
        "    \"Gradient Boosting (XGBoost)\": GradientBoostingClassifier(random_state=42) # Similar ao XGBoost que você já usou\n",
        "}\n",
        "\n",
        "# Loop para treinar e avaliar cada modelo\n",
        "print(\"Iniciando a Avaliação Comparativa dos Modelos...\")\n",
        "for name, model in models.items():\n",
        "    # Criação do pipeline completo para cada modelo\n",
        "    # Isso garante que o pré-processamento seja aplicado corretamente antes do treinamento\n",
        "    pipeline = Pipeline(steps=[('preprocessor', preprocessor),\n",
        "                               ('classifier', model)])\n",
        "\n",
        "    # Treina o pipeline com os dados de treino\n",
        "    pipeline.fit(X_train, y_train)\n",
        "\n",
        "    # Faz previsões no conjunto de teste\n",
        "    y_pred = pipeline.predict(X_test)\n",
        "\n",
        "    # Imprime o relatório de classificação para o modelo atual\n",
        "    print(\"-\" * 60)\n",
        "    print(f\"Relatório de Desempenho para: {name}\")\n",
        "    print(classification_report(y_test, y_pred))"
      ],
      "metadata": {
        "colab": {
          "base_uri": "https://localhost:8080/"
        },
        "id": "byKAFzE9vrcR",
        "outputId": "88cd9902-e415-46d5-c7c3-9ecceff81648"
      },
      "execution_count": 13,
      "outputs": [
        {
          "output_type": "stream",
          "name": "stdout",
          "text": [
            "Iniciando a Avaliação Comparativa dos Modelos...\n",
            "------------------------------------------------------------\n",
            "Relatório de Desempenho para: Regressão Logística\n",
            "              precision    recall  f1-score   support\n",
            "\n",
            "           0       0.88      0.96      0.92       247\n",
            "           1       0.62      0.34      0.44        47\n",
            "\n",
            "    accuracy                           0.86       294\n",
            "   macro avg       0.75      0.65      0.68       294\n",
            "weighted avg       0.84      0.86      0.84       294\n",
            "\n",
            "------------------------------------------------------------\n",
            "Relatório de Desempenho para: Random Forest\n",
            "              precision    recall  f1-score   support\n",
            "\n",
            "           0       0.86      0.98      0.92       247\n",
            "           1       0.64      0.15      0.24        47\n",
            "\n",
            "    accuracy                           0.85       294\n",
            "   macro avg       0.75      0.57      0.58       294\n",
            "weighted avg       0.82      0.85      0.81       294\n",
            "\n",
            "------------------------------------------------------------\n",
            "Relatório de Desempenho para: Gradient Boosting (XGBoost)\n",
            "              precision    recall  f1-score   support\n",
            "\n",
            "           0       0.87      0.98      0.92       247\n",
            "           1       0.71      0.21      0.33        47\n",
            "\n",
            "    accuracy                           0.86       294\n",
            "   macro avg       0.79      0.60      0.63       294\n",
            "weighted avg       0.84      0.86      0.83       294\n",
            "\n"
          ]
        }
      ]
    },
    {
      "cell_type": "code",
      "execution_count": 14,
      "metadata": {
        "colab": {
          "base_uri": "https://localhost:8080/"
        },
        "id": "94df6861",
        "outputId": "bd94497a-3250-4f02-850e-1f61231a1c86"
      },
      "outputs": [
        {
          "output_type": "stream",
          "name": "stdout",
          "text": [
            "CV AUC-ROC (Logistic): 0.8391885728781269 ± 0.02894125678517016\n",
            "\n",
            "Teste - Relatório:\n",
            "              precision    recall  f1-score   support\n",
            "\n",
            "           0       0.88      0.96      0.92       247\n",
            "           1       0.62      0.34      0.44        47\n",
            "\n",
            "    accuracy                           0.86       294\n",
            "   macro avg       0.75      0.65      0.68       294\n",
            "weighted avg       0.84      0.86      0.84       294\n",
            "\n",
            "AUC-ROC: 0.8115255405289\n"
          ]
        }
      ],
      "source": [
        "# Logistic Regression com pipeline e CV\n",
        "from sklearn.model_selection import cross_val_score\n",
        "lr_pipeline = Pipeline(steps=[('pre', preprocessor), ('clf', LogisticRegression(max_iter=1000, random_state=RANDOM_STATE))])\n",
        "cv = StratifiedKFold(n_splits=5, shuffle=True, random_state=RANDOM_STATE)\n",
        "scores = cross_val_score(lr_pipeline, X_train, y_train, cv=cv, scoring='roc_auc')\n",
        "print('CV AUC-ROC (Logistic):', scores.mean(), '±', scores.std())\n",
        "\n",
        "# Treinar no treino completo e avaliar no teste\n",
        "lr_pipeline.fit(X_train, y_train)\n",
        "y_pred_lr = lr_pipeline.predict(X_test)\n",
        "y_proba_lr = lr_pipeline.predict_proba(X_test)[:,1]\n",
        "print('\\nTeste - Relatório:')\n",
        "print(classification_report(y_test, y_pred_lr))\n",
        "print('AUC-ROC:', roc_auc_score(y_test, y_proba_lr))\n"
      ]
    },
    {
      "cell_type": "markdown",
      "source": [
        "### **Análise Comparativa dos Resultados Iniciais**\n",
        "\n",
        "Após a execução do pipeline de avaliação para os três modelos com seus hiperparâmetros padrão, podemos comparar diretamente seus desempenhos no conjunto de teste. O objetivo é identificar qual abordagem se mostra mais promissora para resolver nosso problema de negócio: a identificação de funcionários em risco de churn.\n",
        "\n",
        "Ao analisar os relatórios de classificação, focamos principalmente no **Recall** para a classe `1` (Churn), pois ele mede a capacidade do modelo de encontrar os funcionários que de fato saíram, que é a nossa prioridade.\n",
        "\n",
        "* **Regressão Logística:** Apresentou o melhor desempenho, com um **Recall de 0.34**.\n",
        "* **Gradient Boosting:** Obteve um **Recall de 0.21**.\n",
        "* **Random Forest:** Teve o desempenho mais baixo nesta métrica, com um **Recall de 0.15**.\n",
        "\n",
        "#### **Conclusão da Comparação Inicial**\n",
        "\n",
        "Fica evidente que a **Regressão Logística**, mesmo sendo o modelo mais simples, obteve o melhor resultado inicial, sendo capaz de identificar **34%** dos casos reais de churn, uma melhora drástica em relação ao baseline de 0%.\n",
        "\n",
        "Tanto o Random Forest quanto o Gradient Boosting, em suas configurações padrão, não conseguiram superar o modelo linear nesta métrica crucial. É interessante notar, no entanto, que o Gradient Boosting alcançou uma **Precisão** ligeiramente maior (0.71), indicando que suas previsões positivas são muito confiáveis.\n",
        "\n",
        "Esta primeira análise nos dá uma forte indicação de que a Regressão Logística é um candidato muito promissor. A próxima etapa de **Otimização Avançada** será fundamental para verificar se, ao ajustarmos os hiperparâmetros de cada um desses modelos, esta conclusão se mantém ou se um dos modelos de ensemble consegue, em sua melhor versão, superar a performance da Regressão Logística."
      ],
      "metadata": {
        "id": "X-DxrWJzzHV_"
      }
    },
    {
      "cell_type": "markdown",
      "metadata": {
        "id": "438627a0"
      },
      "source": [
        "## 7) Ensemble: Random Forest (baseline ensemble) + Busca de Hiperparâmetros\n",
        "\n",
        "Após avaliar um modelo linear, partimos para um algoritmo de ensemble mais complexo, o Random Forest. Este modelo costuma apresentar alta performance em dados tabulares. Para extrair o melhor resultado, realizamos uma busca exaustiva por hiperparâmetros utilizando `GridSearchCV`, uma técnica robusta para encontrar a configuração ótima do modelo, e verificar se ele consegue superar a performance da Regressão Logística."
      ]
    },
    {
      "cell_type": "code",
      "source": [
        "# --- 7) OTIMIZAÇÃO DE HIPERPARÂMETROS COM GRIDSEARCHCV ---\n",
        "\n",
        "# Importando as bibliotecas necessárias para esta etapa\n",
        "from sklearn.pipeline import Pipeline\n",
        "from sklearn.compose import ColumnTransformer\n",
        "from sklearn.preprocessing import OneHotEncoder, StandardScaler\n",
        "from sklearn.model_selection import GridSearchCV, StratifiedKFold\n",
        "from sklearn.ensemble import RandomForestClassifier\n",
        "\n",
        "# Seleciona automaticamente as colunas numéricas e categóricas do conjunto de treino\n",
        "num_cols = X_train.select_dtypes(include=['int64','float64']).columns\n",
        "cat_cols = X_train.select_dtypes(include=['object']).columns\n",
        "\n",
        "# Define o pré-processador que aplica StandardScaler nas colunas numéricas e OneHotEncoder nas categóricas\n",
        "preprocessor = ColumnTransformer([\n",
        "    ('num', StandardScaler(), num_cols),\n",
        "    ('cat', OneHotEncoder(handle_unknown=\"ignore\"), cat_cols)\n",
        "])\n",
        "\n",
        "# Cria o pipeline completo, unindo o pré-processador com o modelo Random Forest\n",
        "pipe = Pipeline([\n",
        "    ('pre', preprocessor),\n",
        "    ('clf', RandomForestClassifier(random_state=42))\n",
        "])\n",
        "\n",
        "# Define a \"grade\" de hiperparâmetros que serão testados\n",
        "# O GridSearchCV testará todas as combinações possíveis destes valores\n",
        "param_grid = {\n",
        "    'clf__n_estimators': [50, 100],      # Testa com 50 e 100 árvores na floresta\n",
        "    'clf__max_depth': [None, 5, 10]    # Testa com profundidade máxima ilimitada, 5 e 10\n",
        "}\n",
        "\n",
        "# Configura a validação cruzada (5 divisões, estratificada para manter a proporção das classes)\n",
        "cv = StratifiedKFold(n_splits=5, shuffle=True, random_state=42)\n",
        "\n",
        "# Configura o GridSearchCV\n",
        "# Ele usará o pipeline, a grade de parâmetros e a validação cruzada definidos.\n",
        "# A métrica a ser otimizada é 'f1_macro'. n_jobs=-1 usa todos os processadores disponíveis.\n",
        "gs = GridSearchCV(pipe, param_grid, cv=cv, scoring='f1_macro', n_jobs=-1)\n",
        "\n",
        "# Executa a busca pelos melhores parâmetros usando os dados de treino\n",
        "import time\n",
        "\n",
        "start = time.time()\n",
        "gs.fit(X_train, y_train)\n",
        "end = time.time()\n",
        "\n",
        "print(\"Tempo de treino (segundos):\", round(end - start, 2))\n",
        "\n",
        "# Imprime os resultados encontrados\n",
        "print(\"Melhores parâmetros encontrados:\", gs.best_params_)\n",
        "print(\"Melhor score F1 (obtido na validação cruzada):\", gs.best_score_)"
      ],
      "metadata": {
        "colab": {
          "base_uri": "https://localhost:8080/"
        },
        "id": "pYXmJ7uqwipR",
        "outputId": "ce870efe-2bff-42d5-d799-8c397d768ae3"
      },
      "execution_count": 15,
      "outputs": [
        {
          "output_type": "stream",
          "name": "stdout",
          "text": [
            "Tempo de treino (segundos): 10.13\n",
            "Melhores parâmetros encontrados: {'clf__max_depth': 10, 'clf__n_estimators': 50}\n",
            "Melhor score F1 (obtido na validação cruzada): 0.6282616577105181\n"
          ]
        }
      ]
    },
    {
      "cell_type": "markdown",
      "source": [
        "**Análise dos Resultados da Otimização**\n",
        "\n",
        "A busca com GridSearchCV concluiu que a melhor configuração de hiperparâmetros para o modelo Random Forest foi {'clf__max_depth': 10, 'clf__n_estimators': 50}. Isso significa que o modelo atinge seu melhor desempenho com 50 árvores na floresta e uma profundidade máxima de 10 níveis para cada árvore.\n",
        "\n",
        "O melhor score F1-macro, obtido durante a validação cruzada, foi de 0.6282. Este score nos dá uma estimativa confiável do desempenho do modelo otimizado e agora vamos verificar sua performance final no conjunto de teste."
      ],
      "metadata": {
        "id": "NfkXpHzSwvJo"
      }
    },
    {
      "cell_type": "markdown",
      "source": [
        "**Avaliação Detalhada do Modelo Otimizado**\n",
        "\n",
        "Após o GridSearchCV identificar a melhor combinação de hiperparâmetros, o próximo passo é realizar uma avaliação completa e visual do modelo final no conjunto de teste. Esta análise nos permitirá entender não apenas o desempenho geral, mas também os tipos de erros que o modelo comete.\n",
        "\n",
        "Para isso, vamos gerar três artefatos principais:\n",
        "\n",
        "- Relatório de Classificação: Um resumo textual das principais métricas.\n",
        "\n",
        "- Matriz de Confusão: Uma visualização dos acertos e erros do modelo.\n",
        "\n",
        "- Curva ROC: Um gráfico que mede a capacidade do modelo de distinguir entre as classes."
      ],
      "metadata": {
        "id": "gn7r5N6QxZBH"
      }
    },
    {
      "cell_type": "code",
      "source": [
        "import matplotlib.pyplot as plt\n",
        "from sklearn.metrics import confusion_matrix, ConfusionMatrixDisplay, roc_auc_score, roc_curve\n",
        "\n",
        "best_model = gs.best_estimator_\n",
        "y_pred = best_model.predict(X_test)\n",
        "y_proba = best_model.predict_proba(X_test)[:,1]\n",
        "\n",
        "print(\"Classification Report (melhor modelo):\")\n",
        "print(classification_report(y_test, y_pred))\n",
        "\n",
        "# Matriz de confusão\n",
        "cm = confusion_matrix(y_test, y_pred)\n",
        "disp = ConfusionMatrixDisplay(confusion_matrix=cm)\n",
        "disp.plot(cmap=plt.cm.Blues)\n",
        "plt.show()\n",
        "\n",
        "# Curva ROC\n",
        "fpr, tpr, thresholds = roc_curve(y_test, y_proba, pos_label=best_model.classes_[1])\n",
        "plt.plot(fpr, tpr, label=\"ROC curve\")\n",
        "plt.plot([0,1], [0,1], \"k--\")\n",
        "plt.xlabel(\"False Positive Rate\")\n",
        "plt.ylabel(\"True Positive Rate\")\n",
        "plt.title(\"Curva ROC\")\n",
        "plt.legend()\n",
        "plt.show()\n",
        "\n",
        "print(\"ROC AUC:\", roc_auc_score(y_test, y_proba))\n"
      ],
      "metadata": {
        "colab": {
          "base_uri": "https://localhost:8080/",
          "height": 1000
        },
        "id": "-t5nlWOlxUAX",
        "outputId": "8df41c9d-8144-466c-811e-033abc62db19"
      },
      "execution_count": 16,
      "outputs": [
        {
          "output_type": "stream",
          "name": "stdout",
          "text": [
            "Classification Report (melhor modelo):\n",
            "              precision    recall  f1-score   support\n",
            "\n",
            "           0       0.86      0.98      0.92       247\n",
            "           1       0.64      0.15      0.24        47\n",
            "\n",
            "    accuracy                           0.85       294\n",
            "   macro avg       0.75      0.57      0.58       294\n",
            "weighted avg       0.82      0.85      0.81       294\n",
            "\n"
          ]
        },
        {
          "output_type": "display_data",
          "data": {
            "text/plain": [
              "<Figure size 640x480 with 2 Axes>"
            ],
            "image/png": "[encoded data removed]"
          },
          "metadata": {}
        },
        {
          "output_type": "display_data",
          "data": {
            "text/plain": [
              "<Figure size 640x480 with 1 Axes>"
            ],
            "image/png": "[encoded data removed]"
          },
          "metadata": {}
        },
        {
          "output_type": "stream",
          "name": "stdout",
          "text": [
            "ROC AUC: 0.7672495477646653\n"
          ]
        }
      ]
    },
    {
      "cell_type": "markdown",
      "metadata": {
        "id": "tHv8vKfLje33"
      },
      "source": [
        "**Análise dos Resultados Finais do Modelo Otimizado (Random Forest)**\n",
        "\n",
        "A avaliação detalhada do nosso modelo Random Forest otimizado no conjunto de teste nos fornece a visão mais clara de sua performance em um cenário real.\n",
        "\n",
        "- Relatório de Classificação: O relatório nos mostra um resumo das principais métricas. O Recall para a classe 1 (Churn), nossa métrica mais importante, ficou em 0.15 (ou 15%). A Precisão de 0.64 (ou 64%) indica que o modelo tem uma boa taxa de acerto quando prevê que um funcionário sairá.\n",
        "\n",
        "- Matriz de Confusão: A matriz de confusão nos permite visualizar os acertos e erros de forma mais granular. Observamos que:\n",
        "\n",
        "  - O modelo identificou corretamente 7 funcionários que de fato saíram (Verdadeiros Positivos).\n",
        "\n",
        "  - Ele classificou corretamente 243 funcionários que ficaram (Verdadeiros Negativos).\n",
        "\n",
        "  - Crucialmente, ele falhou em identificar 40 funcionários que saíram (Falsos Negativos), que é o tipo de erro que mais queremos minimizar neste problema.\n",
        "\n",
        "- Curva ROC e AUC: O valor da AUC (Área Sob a Curva) foi de 0.7672. Um valor acima de 0.75 indica uma boa capacidade de discriminação do modelo, confirmando que ele é robusto e significativamente melhor que uma escolha aleatória (que teria uma AUC de 0.5)."
      ]
    },
    {
      "cell_type": "markdown",
      "source": [
        "**Conclusão Final e Comparação de Modelos**\n",
        "\n",
        "Esta etapa gerou um insight muito valioso: o modelo mais complexo (Random Forest), mesmo após ser otimizado com GridSearchCV, não conseguiu superar o modelo mais simples (Regressão Logística) na métrica de maior importância para o negócio (o Recall).\n",
        "\n",
        "O Recall do Random Forest (0.15) foi significativamente inferior ao da Regressão Logística, que em sua versão não otimizada já havia alcançado um Recall de 0.34.\n",
        "\n",
        "Diante desses resultados, a Regressão Logística se firma como a melhor e mais eficiente solução encontrada neste MVP. Ela oferece o melhor desempenho no principal indicador de sucesso (identificar o maior número possível de funcionários em risco) e, ao mesmo tempo, é um modelo mais simples e interpretável."
      ],
      "metadata": {
        "id": "XvctNPmSV_A_"
      }
    },
    {
      "cell_type": "markdown",
      "metadata": {
        "id": "e797e3f2"
      },
      "source": [
        "## 8) Gradient Boosting (XGBoost)\n",
        "\n",
        "Como último competidor em nossa análise, avaliamos um modelo da família **Boosting**, especificamente o `GradientBoostingClassifier` (que utiliza princípios similares ao famoso XGBoost). Diferentemente do Random Forest, que constrói árvores de forma independente, os modelos de Boosting são construídos de forma **sequencial**: cada nova árvore é treinada para corrigir os erros cometidos pela árvore anterior.\n",
        "\n",
        "Esse processo focado na correção iterativa de erros faz com que os algoritmos de Boosting sejam extremamente eficazes e, frequentemente, apresentem a melhor performance em competições de machine learning para dados tabulares.\n",
        "\n",
        "Vamos avaliar seu desempenho com os parâmetros padrão para verificar se esta abordagem mais sofisticada consegue superar o resultado da Regressão Logística na nossa métrica principal, o Recall."
      ]
    },
    {
      "cell_type": "code",
      "execution_count": 17,
      "metadata": {
        "colab": {
          "base_uri": "https://localhost:8080/"
        },
        "id": "6007b229",
        "outputId": "dabe70fd-776d-4f23-dacf-cbbf24146388"
      },
      "outputs": [
        {
          "output_type": "stream",
          "name": "stdout",
          "text": [
            "XGBoost - Relatório:\n",
            "              precision    recall  f1-score   support\n",
            "\n",
            "           0       0.87      0.97      0.92       247\n",
            "           1       0.63      0.26      0.36        47\n",
            "\n",
            "    accuracy                           0.86       294\n",
            "   macro avg       0.75      0.61      0.64       294\n",
            "weighted avg       0.83      0.86      0.83       294\n",
            "\n",
            "AUC-ROC: 0.7732793522267207\n"
          ]
        },
        {
          "output_type": "stream",
          "name": "stderr",
          "text": [
            "/usr/local/lib/python3.12/dist-packages/xgboost/training.py:183: UserWarning: [12:41:28] WARNING: /workspace/src/learner.cc:738: \n",
            "Parameters: { \"use_label_encoder\" } are not used.\n",
            "\n",
            "  bst.update(dtrain, iteration=i, fobj=obj)\n"
          ]
        }
      ],
      "source": [
        "try:\n",
        "    from xgboost import XGBClassifier\n",
        "    xgb_pipeline = Pipeline(steps=[('pre', preprocessor), ('clf', XGBClassifier(use_label_encoder=False, eval_metric='logloss', random_state=RANDOM_STATE))])\n",
        "    xgb_pipeline.fit(X_train, y_train)\n",
        "    y_pred_xgb = xgb_pipeline.predict(X_test)\n",
        "    y_proba_xgb = xgb_pipeline.predict_proba(X_test)[:,1]\n",
        "    print('XGBoost - Relatório:')\n",
        "    print(classification_report(y_test, y_pred_xgb))\n",
        "    print('AUC-ROC:', roc_auc_score(y_test, y_proba_xgb))\n",
        "except Exception as e:\n",
        "    print('XGBoost não disponível neste ambiente. Execute a célula de setup no Colab para instalar xgboost.\\nErro:', e)\n"
      ]
    },
    {
      "cell_type": "markdown",
      "metadata": {
        "id": "Vrbyz7mBlbxA"
      },
      "source": [
        "**Interpretação dos Resultados:**\n",
        "\n",
        "O desempenho do XGBoost com seus parâmetros padrão no conjunto de teste foi o seguinte:\n",
        "\n",
        "- AUC-ROC de 0.773: Em termos de capacidade geral de discriminação, o XGBoost obteve um resultado ligeiramente inferior aos modelos anteriores (Regressão Logística e Random Forest, ambos com ~0.80).\n",
        "\n",
        "- Recall para a Classe 1 (Churn) = 0.26: O modelo conseguiu identificar 26% dos funcionários que de fato saíram. Este resultado é uma melhora substancial em relação ao Random Forest (0.13), mas ainda fica abaixo do que foi alcançado pela Regressão Logística (0.34).\n",
        "\n",
        "- Precisão para a Classe 1 (Churn) = 0.63: Com uma precisão de 63%, o XGBoost se mostrou o modelo mais preciso (junto com a Regressão Logística, que teve 0.62). Isso significa que, quando ele prevê um churn, a chance de estar correto é muito alta.\n",
        "\n",
        "**Conclusão Final e Escolha do Modelo:**\n",
        "\n",
        "Após a avaliação de três modelos distintos (Regressão Logística, Random Forest e XGBoost), temos uma visão clara do trade-off entre eles para este problema específico:\n",
        "\n",
        "- Random Forest: Apresentou o menor recall, sendo o menos indicado para o nosso objetivo.\n",
        "\n",
        "- XGBoost: Ofereceu a melhor precisão, mas com um recall inferior ao da Regressão Logística. Seria um bom modelo se o custo de uma ação de retenção incorreta fosse muito alto.\n",
        "\n",
        "- Regressão Logística: Apresentou o melhor Recall (0.34), identificando a maior quantidade de funcionários que de fato saíram, mantendo uma precisão muito boa (0.62).\n",
        "\n",
        "Considerando que o principal objetivo de negócio é identificar o maior número possível de funcionários em risco de churn para que ações de retenção possam ser tomadas, **o Recall é a nossa métrica prioritária.**\n",
        "\n",
        "Portanto, com base nos resultados obtidos, **o modelo de Regressão Logística é a melhor solução para este MVP.** Ele oferece o melhor desempenho no indicador chave de sucesso (Recall), superando modelos mais complexos, e ainda tem a vantagem de ser mais simples e facilmente interpretável."
      ]
    },
    {
      "cell_type": "markdown",
      "source": [
        "---\n",
        "## 9) Opcional: Otimização Avançada e Comparação Final de Modelos\n",
        "\n",
        "Após a avaliação individual, realizamos uma etapa de otimização de hiperparâmetros mais exaustiva para os três principais modelos, utilizando a técnica de `GridSearchCV`. O objetivo desta seção é conduzir uma \"competição\" justa, onde cada algoritmo é ajustado para encontrar sua melhor performance possível antes de declararmos um vencedor final.\n",
        "\n",
        "Esta busca é computacionalmente intensiva e pode levar vários minutos, pois testa sistematicamente múltiplas combinações de parâmetros para cada modelo. A métrica de otimização escolhida foi o **`recall`**, pois nosso principal objetivo de negócio é maximizar a identificação de funcionários que estão em risco de sair."
      ],
      "metadata": {
        "id": "yxld3-6V7TEK"
      }
    },
    {
      "cell_type": "code",
      "source": [
        "# --- 9) COMPARAÇÃO E OTIMIZAÇÃO DE MODELOS COM GRIDSEARCHCV ---\n",
        "\n",
        "# Importando as bibliotecas necessárias para esta etapa\n",
        "from sklearn.model_selection import GridSearchCV, StratifiedKFold\n",
        "from sklearn.linear_model import LogisticRegression\n",
        "from sklearn.ensemble import RandomForestClassifier, GradientBoostingClassifier\n",
        "\n",
        "# 1. DEFINIÇÃO DOS PIPELINES PARA CADA MODELO\n",
        "pipelines = {\n",
        "    'Regressão Logística': Pipeline([\n",
        "        ('prep', preprocessor),\n",
        "        ('clf', LogisticRegression(max_iter=1000, random_state=RANDOM_STATE))\n",
        "    ]),\n",
        "    'Random Forest': Pipeline([\n",
        "        ('prep', preprocessor),\n",
        "        ('clf', RandomForestClassifier(random_state=RANDOM_STATE))\n",
        "    ]),\n",
        "    'Gradient Boosting': Pipeline([\n",
        "        ('prep', preprocessor),\n",
        "        ('clf', GradientBoostingClassifier(random_state=RANDOM_STATE))\n",
        "    ])\n",
        "}\n",
        "\n",
        "# 2. DEFINIÇÃO DA GRADE DE HIPERPARÂMETROS PARA CADA MODELO\n",
        "param_grids = {\n",
        "    'Regressão Logística': {\n",
        "        'clf__C': [0.1, 1.0, 10],\n",
        "        'clf__solver': ['liblinear'],\n",
        "        'clf__class_weight': [None, 'balanced'] # Testando o ajuste de peso para a classe\n",
        "    },\n",
        "    'Random Forest': {\n",
        "        'clf__n_estimators': [100, 200],\n",
        "        'clf__max_depth': [10, 20],\n",
        "        'clf__class_weight': [None, 'balanced']\n",
        "    },\n",
        "    'Gradient Boosting': {\n",
        "        'clf__n_estimators': [100, 200],\n",
        "        'clf__learning_rate': [0.05, 0.1],\n",
        "        'clf__max_depth': [3, 5]\n",
        "    }\n",
        "}\n",
        "\n",
        "# 3. EXECUÇÃO DO GRIDSEARCHCV EM LOOP (ESTA PARTE VAI DEMORAR)\n",
        "cv = StratifiedKFold(n_splits=5, shuffle=True, random_state=RANDOM_STATE)\n",
        "search_results = {}\n",
        "\n",
        "print(\"Iniciando a busca e otimização de hiperparâmetros para cada modelo...\")\n",
        "print(\"-\" * 60)\n",
        "\n",
        "for name, pipe in pipelines.items():\n",
        "    print(f\"Otimizando o modelo: {name}...\")\n",
        "    gs = GridSearchCV(pipe, param_grids[name], cv=cv, scoring='recall', n_jobs=-1, verbose=1)\n",
        "    gs.fit(X_train, y_train)\n",
        "\n",
        "    search_results[name] = gs\n",
        "    print(f\"Melhor score (Recall) para {name}: {gs.best_score_:.4f}\")\n",
        "    print(f\"Melhores parâmetros: {gs.best_params_}\")\n",
        "    print(\"-\" * 60)\n",
        "\n",
        "print(\"Busca de hiperparâmetros concluída.\")\n",
        "\n",
        "# 4. AVALIAÇÃO FINAL DO MELHOR MODELO NO CONJUNTO DE TESTE\n",
        "best_model_name = max(search_results, key=lambda name: search_results[name].best_score_)\n",
        "best_grid_search = search_results[best_model_name]\n",
        "best_model_pipeline = best_grid_search.best_estimator_\n",
        "\n",
        "print(f\"\\n--- O MELHOR MODELO GERAL (APÓS OTIMIZAÇÃO) FOI: {best_model_name} ---\")\n",
        "y_pred_final = best_model_pipeline.predict(X_test)\n",
        "\n",
        "print(\"\\nRelatório de Classificação do Melhor Modelo no Conjunto de Teste:\")\n",
        "print(classification_report(y_test, y_pred_final))\n",
        "\n",
        "# Guarda o melhor modelo para usar nas etapas seguintes (interpretação, salvamento)\n",
        "gs = best_grid_search"
      ],
      "metadata": {
        "colab": {
          "base_uri": "https://localhost:8080/"
        },
        "id": "81I1-I5P30Wt",
        "outputId": "955a0256-46f0-44ee-81c7-3514277d1041"
      },
      "execution_count": 18,
      "outputs": [
        {
          "output_type": "stream",
          "name": "stdout",
          "text": [
            "Iniciando a busca e otimização de hiperparâmetros para cada modelo...\n",
            "------------------------------------------------------------\n",
            "Otimizando o modelo: Regressão Logística...\n",
            "Fitting 5 folds for each of 6 candidates, totalling 30 fits\n",
            "Melhor score (Recall) para Regressão Logística: 0.7368\n",
            "Melhores parâmetros: {'clf__C': 0.1, 'clf__class_weight': 'balanced', 'clf__solver': 'liblinear'}\n",
            "------------------------------------------------------------\n",
            "Otimizando o modelo: Random Forest...\n",
            "Fitting 5 folds for each of 8 candidates, totalling 40 fits\n",
            "Melhor score (Recall) para Random Forest: 0.2105\n",
            "Melhores parâmetros: {'clf__class_weight': None, 'clf__max_depth': 10, 'clf__n_estimators': 100}\n",
            "------------------------------------------------------------\n",
            "Otimizando o modelo: Gradient Boosting...\n",
            "Fitting 5 folds for each of 8 candidates, totalling 40 fits\n",
            "Melhor score (Recall) para Gradient Boosting: 0.3526\n",
            "Melhores parâmetros: {'clf__learning_rate': 0.1, 'clf__max_depth': 3, 'clf__n_estimators': 200}\n",
            "------------------------------------------------------------\n",
            "Busca de hiperparâmetros concluída.\n",
            "\n",
            "--- O MELHOR MODELO GERAL (APÓS OTIMIZAÇÃO) FOI: Regressão Logística ---\n",
            "\n",
            "Relatório de Classificação do Melhor Modelo no Conjunto de Teste:\n",
            "              precision    recall  f1-score   support\n",
            "\n",
            "           0       0.93      0.79      0.85       247\n",
            "           1       0.38      0.68      0.48        47\n",
            "\n",
            "    accuracy                           0.77       294\n",
            "   macro avg       0.65      0.73      0.67       294\n",
            "weighted avg       0.84      0.77      0.79       294\n",
            "\n"
          ]
        }
      ]
    },
    {
      "cell_type": "markdown",
      "source": [
        "### **Análise da Otimização Avançada e Escolha do Modelo Final**\n",
        "\n",
        "Nesta seção, realizamos uma busca de hiperparâmetros mais completa (`GridSearchCV`) para os três principais algoritmos de classificação. O objetivo foi encontrar a melhor versão de cada modelo, utilizando a métrica de **`recall`** como critério de otimização, para declararmos um modelo campeão.\n",
        "\n",
        "#### **Interpretação dos Resultados da Busca (Validação Cruzada):**\n",
        "\n",
        "A busca testou múltiplas combinações de parâmetros para cada modelo, e os melhores scores de `recall` obtidos durante a validação cruzada foram:\n",
        "\n",
        "* **Regressão Logística:** Melhor Recall (validação) = **0.7368**\n",
        "* **Gradient Boosting:** Melhor Recall (validação) = **0.3526**\n",
        "* **Random Forest:** Melhor Recall (validação) = **0.2105**\n",
        "\n",
        "O resultado da busca foi inequívoco: a **Regressão Logística**, ao ser otimizada (especialmente com o uso do parâmetro `'clf__class_weight': 'balanced'`), demonstrou um potencial imensamente superior para identificar os casos de churn.\n",
        "\n",
        "#### **Análise do Melhor Modelo no Conjunto de Teste:**\n",
        "\n",
        "O modelo campeão da otimização (Regressão Logística com `{'clf__C': 0.1, 'clf__class_weight': 'balanced', 'clf__solver': 'liblinear'}`) foi então avaliado no conjunto de teste para uma validação final de seu desempenho no mundo real.\n",
        "\n",
        "O relatório de classificação final revela o grande impacto da otimização:\n",
        "\n",
        "* **Recall de 0.68 para a Classe 1 (Churn):** Este é um resultado extraordinário. Este resultado representa um **salto de performance gigantesco** em relação à nossa primeira versão do modelo, que tinha um recall de 0.34. A otimização, especialmente o uso de `class_weight='balanced'`, praticamente **dobrou a capacidade do nosso modelo** de encontrar os funcionários em risco.\n",
        "\n",
        "* **Trade-off Precisão-Recall:** Este ganho massivo no recall veio acompanhado de uma redução na precisão (0.38). Isso representa um **trade-off estratégico**: para encontrar muito mais funcionários em risco, o modelo também gera mais \"alarmes falsos\". No entanto, para um problema de RH onde o custo de perder um talento é muito maior do que o custo de abordar um funcionário que não sairia, este é um equilíbrio extremamente vantajoso.\n",
        "\n",
        "### **Conclusão da Modelagem**\n",
        "\n",
        "Após uma análise sistemática e uma etapa de otimização avançada, o modelo de **Regressão Logística Otimizada** foi selecionado como a solução final para este MVP. Ele não apenas superou o baseline de forma significativa, mas demonstrou o melhor desempenho na métrica de recall, provando que a otimização de hiperparâmetros e o tratamento correto do desbalanceamento de classes (`class_weight`) foram cruciais para o sucesso do projeto.\n",
        "\n",
        "Isso nos leva a uma conclusão importante: para este dataset, um modelo mais simples, quando devidamente ajustado, foi mais eficaz para o objetivo de negócio do que algoritmos mais complexos. O modelo final está agora definido e pronto para as etapas de interpretação e salvamento.\n",
        "\n",
        "---"
      ],
      "metadata": {
        "id": "9Ict6az07amj"
      }
    },
    {
      "cell_type": "markdown",
      "metadata": {
        "id": "9c91647c"
      },
      "source": [
        "## 10) Rede Neural (MLP) com Keras\n",
        "\n",
        "Como etapa final de modelagem, exploramos uma abordagem de Deep Learning através da construção de uma Rede Neural simples com a biblioteca Keras. O objetivo foi verificar se um modelo não-linear mais complexo poderia capturar padrões nos dados que os modelos clássicos não conseguiram.\n",
        "\n",
        "Em geral, redes neurais exigem mais dados e tuning, mas são úteis para comparar com modelos de árvore/ensemble.\n",
        "\n",
        "A arquitetura construída consiste em uma camada de entrada, duas camadas ocultas com 64 e 32 neurônios (utilizando a função de ativação ReLU), e uma camada de regularização (Dropout) para mitigar o risco de overfitting. A camada de saída utiliza a função sigmoid, adequada para problemas de classificação binária."
      ]
    },
    {
      "cell_type": "code",
      "execution_count": 19,
      "metadata": {
        "colab": {
          "base_uri": "https://localhost:8080/",
          "height": 1000
        },
        "id": "b1f3745c",
        "outputId": "1edded81-ca78-4c2e-e52e-4b6d61b2e603"
      },
      "outputs": [
        {
          "output_type": "display_data",
          "data": {
            "text/plain": [
              "\u001b[1mModel: \"sequential\"\u001b[0m\n"
            ],
            "text/html": [
              "<pre style=\"white-space:pre;overflow-x:auto;line-height:normal;font-family:Menlo,'DejaVu Sans Mono',consolas,'Courier New',monospace\"><span style=\"font-weight: bold\">Model: \"sequential\"</span>\n",
              "</pre>\n"
            ]
          },
          "metadata": {}
        },
        {
          "output_type": "display_data",
          "data": {
            "text/plain": [
              "┏━━━━━━━━━━━━━━━━━━━━━━━━━━━━━━━━━┳━━━━━━━━━━━━━━━━━━━━━━━━┳━━━━━━━━━━━━━━━┓\n",
              "┃\u001b[1m \u001b[0m\u001b[1mLayer (type)                   \u001b[0m\u001b[1m \u001b[0m┃\u001b[1m \u001b[0m\u001b[1mOutput Shape          \u001b[0m\u001b[1m \u001b[0m┃\u001b[1m \u001b[0m\u001b[1m      Param #\u001b[0m\u001b[1m \u001b[0m┃\n",
              "┡━━━━━━━━━━━━━━━━━━━━━━━━━━━━━━━━━╇━━━━━━━━━━━━━━━━━━━━━━━━╇━━━━━━━━━━━━━━━┩\n",
              "│ dense (\u001b[38;5;33mDense\u001b[0m)                   │ (\u001b[38;5;45mNone\u001b[0m, \u001b[38;5;34m64\u001b[0m)             │         \u001b[38;5;34m3,328\u001b[0m │\n",
              "├─────────────────────────────────┼────────────────────────┼───────────────┤\n",
              "│ dropout (\u001b[38;5;33mDropout\u001b[0m)               │ (\u001b[38;5;45mNone\u001b[0m, \u001b[38;5;34m64\u001b[0m)             │             \u001b[38;5;34m0\u001b[0m │\n",
              "├─────────────────────────────────┼────────────────────────┼───────────────┤\n",
              "│ dense_1 (\u001b[38;5;33mDense\u001b[0m)                 │ (\u001b[38;5;45mNone\u001b[0m, \u001b[38;5;34m32\u001b[0m)             │         \u001b[38;5;34m2,080\u001b[0m │\n",
              "├─────────────────────────────────┼────────────────────────┼───────────────┤\n",
              "│ dense_2 (\u001b[38;5;33mDense\u001b[0m)                 │ (\u001b[38;5;45mNone\u001b[0m, \u001b[38;5;34m1\u001b[0m)              │            \u001b[38;5;34m33\u001b[0m │\n",
              "└─────────────────────────────────┴────────────────────────┴───────────────┘\n"
            ],
            "text/html": [
              "<pre style=\"white-space:pre;overflow-x:auto;line-height:normal;font-family:Menlo,'DejaVu Sans Mono',consolas,'Courier New',monospace\">┏━━━━━━━━━━━━━━━━━━━━━━━━━━━━━━━━━┳━━━━━━━━━━━━━━━━━━━━━━━━┳━━━━━━━━━━━━━━━┓\n",
              "┃<span style=\"font-weight: bold\"> Layer (type)                    </span>┃<span style=\"font-weight: bold\"> Output Shape           </span>┃<span style=\"font-weight: bold\">       Param # </span>┃\n",
              "┡━━━━━━━━━━━━━━━━━━━━━━━━━━━━━━━━━╇━━━━━━━━━━━━━━━━━━━━━━━━╇━━━━━━━━━━━━━━━┩\n",
              "│ dense (<span style=\"color: #0087ff; text-decoration-color: #0087ff\">Dense</span>)                   │ (<span style=\"color: #00d7ff; text-decoration-color: #00d7ff\">None</span>, <span style=\"color: #00af00; text-decoration-color: #00af00\">64</span>)             │         <span style=\"color: #00af00; text-decoration-color: #00af00\">3,328</span> │\n",
              "├─────────────────────────────────┼────────────────────────┼───────────────┤\n",
              "│ dropout (<span style=\"color: #0087ff; text-decoration-color: #0087ff\">Dropout</span>)               │ (<span style=\"color: #00d7ff; text-decoration-color: #00d7ff\">None</span>, <span style=\"color: #00af00; text-decoration-color: #00af00\">64</span>)             │             <span style=\"color: #00af00; text-decoration-color: #00af00\">0</span> │\n",
              "├─────────────────────────────────┼────────────────────────┼───────────────┤\n",
              "│ dense_1 (<span style=\"color: #0087ff; text-decoration-color: #0087ff\">Dense</span>)                 │ (<span style=\"color: #00d7ff; text-decoration-color: #00d7ff\">None</span>, <span style=\"color: #00af00; text-decoration-color: #00af00\">32</span>)             │         <span style=\"color: #00af00; text-decoration-color: #00af00\">2,080</span> │\n",
              "├─────────────────────────────────┼────────────────────────┼───────────────┤\n",
              "│ dense_2 (<span style=\"color: #0087ff; text-decoration-color: #0087ff\">Dense</span>)                 │ (<span style=\"color: #00d7ff; text-decoration-color: #00d7ff\">None</span>, <span style=\"color: #00af00; text-decoration-color: #00af00\">1</span>)              │            <span style=\"color: #00af00; text-decoration-color: #00af00\">33</span> │\n",
              "└─────────────────────────────────┴────────────────────────┴───────────────┘\n",
              "</pre>\n"
            ]
          },
          "metadata": {}
        },
        {
          "output_type": "display_data",
          "data": {
            "text/plain": [
              "\u001b[1m Total params: \u001b[0m\u001b[38;5;34m5,441\u001b[0m (21.25 KB)\n"
            ],
            "text/html": [
              "<pre style=\"white-space:pre;overflow-x:auto;line-height:normal;font-family:Menlo,'DejaVu Sans Mono',consolas,'Courier New',monospace\"><span style=\"font-weight: bold\"> Total params: </span><span style=\"color: #00af00; text-decoration-color: #00af00\">5,441</span> (21.25 KB)\n",
              "</pre>\n"
            ]
          },
          "metadata": {}
        },
        {
          "output_type": "display_data",
          "data": {
            "text/plain": [
              "\u001b[1m Trainable params: \u001b[0m\u001b[38;5;34m5,441\u001b[0m (21.25 KB)\n"
            ],
            "text/html": [
              "<pre style=\"white-space:pre;overflow-x:auto;line-height:normal;font-family:Menlo,'DejaVu Sans Mono',consolas,'Courier New',monospace\"><span style=\"font-weight: bold\"> Trainable params: </span><span style=\"color: #00af00; text-decoration-color: #00af00\">5,441</span> (21.25 KB)\n",
              "</pre>\n"
            ]
          },
          "metadata": {}
        },
        {
          "output_type": "display_data",
          "data": {
            "text/plain": [
              "\u001b[1m Non-trainable params: \u001b[0m\u001b[38;5;34m0\u001b[0m (0.00 B)\n"
            ],
            "text/html": [
              "<pre style=\"white-space:pre;overflow-x:auto;line-height:normal;font-family:Menlo,'DejaVu Sans Mono',consolas,'Courier New',monospace\"><span style=\"font-weight: bold\"> Non-trainable params: </span><span style=\"color: #00af00; text-decoration-color: #00af00\">0</span> (0.00 B)\n",
              "</pre>\n"
            ]
          },
          "metadata": {}
        },
        {
          "output_type": "stream",
          "name": "stdout",
          "text": [
            "None\n",
            "Epoch 1/20\n",
            "\u001b[1m32/32\u001b[0m \u001b[32m━━━━━━━━━━━━━━━━━━━━\u001b[0m\u001b[37m\u001b[0m \u001b[1m3s\u001b[0m 22ms/step - AUC: 0.5024 - loss: 0.7158 - val_AUC: 0.5319 - val_loss: 0.4650\n",
            "Epoch 2/20\n",
            "\u001b[1m32/32\u001b[0m \u001b[32m━━━━━━━━━━━━━━━━━━━━\u001b[0m\u001b[37m\u001b[0m \u001b[1m0s\u001b[0m 8ms/step - AUC: 0.4858 - loss: 0.4750 - val_AUC: 0.7251 - val_loss: 0.4141\n",
            "Epoch 3/20\n",
            "\u001b[1m32/32\u001b[0m \u001b[32m━━━━━━━━━━━━━━━━━━━━\u001b[0m\u001b[37m\u001b[0m \u001b[1m0s\u001b[0m 9ms/step - AUC: 0.6992 - loss: 0.4054 - val_AUC: 0.7804 - val_loss: 0.3856\n",
            "Epoch 4/20\n",
            "\u001b[1m32/32\u001b[0m \u001b[32m━━━━━━━━━━━━━━━━━━━━\u001b[0m\u001b[37m\u001b[0m \u001b[1m1s\u001b[0m 9ms/step - AUC: 0.7587 - loss: 0.3747 - val_AUC: 0.8132 - val_loss: 0.3624\n",
            "Epoch 5/20\n",
            "\u001b[1m32/32\u001b[0m \u001b[32m━━━━━━━━━━━━━━━━━━━━\u001b[0m\u001b[37m\u001b[0m \u001b[1m0s\u001b[0m 5ms/step - AUC: 0.8062 - loss: 0.3295 - val_AUC: 0.8378 - val_loss: 0.3445\n",
            "Epoch 6/20\n",
            "\u001b[1m32/32\u001b[0m \u001b[32m━━━━━━━━━━━━━━━━━━━━\u001b[0m\u001b[37m\u001b[0m \u001b[1m0s\u001b[0m 5ms/step - AUC: 0.8413 - loss: 0.3188 - val_AUC: 0.8471 - val_loss: 0.3315\n",
            "Epoch 7/20\n",
            "\u001b[1m32/32\u001b[0m \u001b[32m━━━━━━━━━━━━━━━━━━━━\u001b[0m\u001b[37m\u001b[0m \u001b[1m0s\u001b[0m 5ms/step - AUC: 0.8573 - loss: 0.2987 - val_AUC: 0.8567 - val_loss: 0.3201\n",
            "Epoch 8/20\n",
            "\u001b[1m32/32\u001b[0m \u001b[32m━━━━━━━━━━━━━━━━━━━━\u001b[0m\u001b[37m\u001b[0m \u001b[1m0s\u001b[0m 5ms/step - AUC: 0.8778 - loss: 0.2898 - val_AUC: 0.8643 - val_loss: 0.3140\n",
            "Epoch 9/20\n",
            "\u001b[1m32/32\u001b[0m \u001b[32m━━━━━━━━━━━━━━━━━━━━\u001b[0m\u001b[37m\u001b[0m \u001b[1m0s\u001b[0m 5ms/step - AUC: 0.8729 - loss: 0.2873 - val_AUC: 0.8695 - val_loss: 0.3098\n",
            "Epoch 10/20\n",
            "\u001b[1m32/32\u001b[0m \u001b[32m━━━━━━━━━━━━━━━━━━━━\u001b[0m\u001b[37m\u001b[0m \u001b[1m0s\u001b[0m 5ms/step - AUC: 0.8958 - loss: 0.2705 - val_AUC: 0.8719 - val_loss: 0.3037\n",
            "Epoch 11/20\n",
            "\u001b[1m32/32\u001b[0m \u001b[32m━━━━━━━━━━━━━━━━━━━━\u001b[0m\u001b[37m\u001b[0m \u001b[1m0s\u001b[0m 5ms/step - AUC: 0.8813 - loss: 0.2787 - val_AUC: 0.8712 - val_loss: 0.2982\n",
            "Epoch 12/20\n",
            "\u001b[1m32/32\u001b[0m \u001b[32m━━━━━━━━━━━━━━━━━━━━\u001b[0m\u001b[37m\u001b[0m \u001b[1m0s\u001b[0m 5ms/step - AUC: 0.9052 - loss: 0.2392 - val_AUC: 0.8701 - val_loss: 0.2990\n",
            "Epoch 13/20\n",
            "\u001b[1m32/32\u001b[0m \u001b[32m━━━━━━━━━━━━━━━━━━━━\u001b[0m\u001b[37m\u001b[0m \u001b[1m0s\u001b[0m 5ms/step - AUC: 0.9045 - loss: 0.2666 - val_AUC: 0.8715 - val_loss: 0.2993\n",
            "Epoch 14/20\n",
            "\u001b[1m32/32\u001b[0m \u001b[32m━━━━━━━━━━━━━━━━━━━━\u001b[0m\u001b[37m\u001b[0m \u001b[1m0s\u001b[0m 5ms/step - AUC: 0.8774 - loss: 0.2683 - val_AUC: 0.8729 - val_loss: 0.2949\n",
            "Epoch 15/20\n",
            "\u001b[1m32/32\u001b[0m \u001b[32m━━━━━━━━━━━━━━━━━━━━\u001b[0m\u001b[37m\u001b[0m \u001b[1m0s\u001b[0m 13ms/step - AUC: 0.9195 - loss: 0.2556 - val_AUC: 0.8770 - val_loss: 0.2937\n",
            "Epoch 16/20\n",
            "\u001b[1m32/32\u001b[0m \u001b[32m━━━━━━━━━━━━━━━━━━━━\u001b[0m\u001b[37m\u001b[0m \u001b[1m0s\u001b[0m 5ms/step - AUC: 0.9098 - loss: 0.2522 - val_AUC: 0.8763 - val_loss: 0.2907\n",
            "Epoch 17/20\n",
            "\u001b[1m32/32\u001b[0m \u001b[32m━━━━━━━━━━━━━━━━━━━━\u001b[0m\u001b[37m\u001b[0m \u001b[1m0s\u001b[0m 5ms/step - AUC: 0.9074 - loss: 0.2597 - val_AUC: 0.8753 - val_loss: 0.2839\n",
            "Epoch 18/20\n",
            "\u001b[1m32/32\u001b[0m \u001b[32m━━━━━━━━━━━━━━━━━━━━\u001b[0m\u001b[37m\u001b[0m \u001b[1m0s\u001b[0m 5ms/step - AUC: 0.9208 - loss: 0.2170 - val_AUC: 0.8743 - val_loss: 0.2846\n",
            "Epoch 19/20\n",
            "\u001b[1m32/32\u001b[0m \u001b[32m━━━━━━━━━━━━━━━━━━━━\u001b[0m\u001b[37m\u001b[0m \u001b[1m0s\u001b[0m 5ms/step - AUC: 0.9089 - loss: 0.2458 - val_AUC: 0.8744 - val_loss: 0.2876\n",
            "Epoch 20/20\n",
            "\u001b[1m32/32\u001b[0m \u001b[32m━━━━━━━━━━━━━━━━━━━━\u001b[0m\u001b[37m\u001b[0m \u001b[1m0s\u001b[0m 5ms/step - AUC: 0.9214 - loss: 0.2362 - val_AUC: 0.8773 - val_loss: 0.2904\n",
            "\u001b[1m10/10\u001b[0m \u001b[32m━━━━━━━━━━━━━━━━━━━━\u001b[0m\u001b[37m\u001b[0m \u001b[1m0s\u001b[0m 7ms/step \n",
            "\n",
            "Rede Neural - Relatório:\n",
            "              precision    recall  f1-score   support\n",
            "\n",
            "           0       0.88      0.97      0.92       247\n",
            "           1       0.64      0.30      0.41        47\n",
            "\n",
            "    accuracy                           0.86       294\n",
            "   macro avg       0.76      0.63      0.66       294\n",
            "weighted avg       0.84      0.86      0.84       294\n",
            "\n",
            "AUC-ROC: 0.7911964854853993\n"
          ]
        }
      ],
      "source": [
        "# Rede Neural simples (Keras)\n",
        "try:\n",
        "    import tensorflow as tf\n",
        "    from tensorflow.keras import layers, models\n",
        "\n",
        "    # Preparar dados pré-processados (fit do preprocessor) e converter para numpy\n",
        "    X_train_prep = preprocessor.fit_transform(X_train)\n",
        "    X_test_prep = preprocessor.transform(X_test)\n",
        "\n",
        "    model = models.Sequential([\n",
        "        layers.Input(shape=(X_train_prep.shape[1],)),\n",
        "        layers.Dense(64, activation='relu'),\n",
        "        layers.Dropout(0.3),\n",
        "        layers.Dense(32, activation='relu'),\n",
        "        layers.Dense(1, activation='sigmoid')\n",
        "    ])\n",
        "    model.compile(optimizer='adam', loss='binary_crossentropy', metrics=['AUC'])\n",
        "    print(model.summary())\n",
        "\n",
        "    # Treinar rapidamente (poucas épocas) — ajuste conforme recursos disponíveis\n",
        "    history = model.fit(X_train_prep, y_train, validation_split=0.15, epochs=20, batch_size=32, verbose=1)\n",
        "    y_proba_nn = model.predict(X_test_prep).ravel()\n",
        "    y_pred_nn = (y_proba_nn > 0.5).astype(int)\n",
        "    print('\\nRede Neural - Relatório:')\n",
        "    print(classification_report(y_test, y_pred_nn))\n",
        "    print('AUC-ROC:', roc_auc_score(y_test, y_proba_nn))\n",
        "except Exception as e:\n",
        "    print('TensorFlow/Keras não disponível ou erro ao treinar a rede. Execute no Colab com suporte a TF.\\nErro:', e)\n"
      ]
    },
    {
      "cell_type": "markdown",
      "source": [
        "### **Interpretação dos Resultados da Rede Neural**\n",
        "\n",
        "A avaliação do desempenho da Rede Neural no conjunto de teste, após 20 épocas de treinamento, nos forneceu os seguintes resultados:\n",
        "\n",
        "* **AUC-ROC de 0.7911:** A capacidade geral de discriminação do modelo foi boa, ficando em um patamar muito similar ao do XGBoost (0.773) e ligeiramente abaixo da Regressão Logística Otimizada (que obteve um resultado superior após a busca de hiperparâmetros).\n",
        "\n",
        "* **Recall para a Classe 1 (Churn) = 0.30:** A rede neural identificou **30%** dos funcionários que de fato saíram. Este resultado a posiciona no mesmo nível do XGBoost (0.26), mas ainda significativamente abaixo da nossa melhor Regressão Logística Otimizada (que alcançou 0.68).\n",
        "\n",
        "* **Precisão para a Classe 1 (Churn) = 0.64:** A precisão do modelo foi a mais alta entre todos os modelos testados. Isso indica que, quando a rede neural prevê que um funcionário vai sair, ela tem uma taxa de acerto muito alta, gerando poucos \"alarmes falsos\".\n",
        "\n",
        "### **Conclusão e Visão Geral dos Modelos**\n",
        "\n",
        "A inclusão da Rede Neural enriquece a análise e nos mostra um trade-off interessante: ela foi a campeã em **Precisão**. No entanto, ela não altera a conclusão final sobre o melhor modelo para o objetivo principal deste problema.\n",
        "\n",
        "A **Regressão Logística Otimizada** (da Seção 9) continua sendo a solução mais equilibrada e eficaz, pois alcançou o **maior Recall (0.68)**, que é a métrica mais importante para o negócio, mantendo uma precisão razoável.\n",
        "\n",
        "A Rede Neural, apesar de sua complexidade, não superou o desempenho geral do modelo linear devidamente ajustado. Isso sugere que a performance do modelo de Deep Learning poderia ser aprimorada com uma arquitetura mais complexa ou uma otimização de hiperparâmetros mais aprofundada, mas, para o escopo deste MVP, a Regressão Logística se provou a escolha mais robusta e eficiente."
      ],
      "metadata": {
        "id": "MmU0Trox7BZq"
      }
    },
    {
      "cell_type": "markdown",
      "metadata": {
        "id": "5cf88aeb"
      },
      "source": [
        "## 11) Interpretação dos modelos\n",
        "\n",
        "Um MVP de sucesso não apenas entrega previsões acuradas, mas também fornece insights que podem guiar as decisões de negócio. Nesta etapa final, utilizamos o modelo Random Forest para extrair a importância das features (Feature Importance), uma técnica que nos permite identificar quais fatores têm maior peso na decisão de um funcionário deixar a empresa.\n",
        "\n",
        "O gráfico de importância de features, gerado a partir do modelo treinado, ordena as variáveis de acordo com sua contribuição para a previsão do churn."
      ]
    },
    {
      "cell_type": "code",
      "source": [
        "# 11) Interpretação do Modelo Vencedor\n",
        "\n",
        "try:\n",
        "    # Pega o pipeline completo e já treinado do GridSearchCV (salvo na variável 'gs' da seção 9)\n",
        "    best_pipeline = gs.best_estimator_\n",
        "\n",
        "    # Extrai o pré-processador JÁ TREINADO de dentro do pipeline\n",
        "    fitted_preprocessor = best_pipeline.named_steps['prep']\n",
        "    feature_names = fitted_preprocessor.get_feature_names_out()\n",
        "\n",
        "    # --- LÓGICA DE INTERPRETAÇÃO ---\n",
        "    # Verifica se o modelo vencedor é baseado em árvores (tem feature_importances_)\n",
        "    if hasattr(best_pipeline.named_steps['clf'], 'feature_importances_'):\n",
        "        print(\"Modelo vencedor é baseado em árvores. Analisando Feature Importances...\")\n",
        "        importances = best_pipeline.named_steps['clf'].feature_importances_\n",
        "        fi = pd.Series(importances, index=feature_names).sort_values(ascending=False).head(20)\n",
        "\n",
        "        display(fi)\n",
        "        fi.plot(kind='barh', figsize=(10, 8)).invert_yaxis()\n",
        "        plt.title(f'Feature Importances do Modelo Vencedor ({gs.best_estimator_.named_steps[\"clf\"].__class__.__name__})')\n",
        "        plt.xlabel('Importância')\n",
        "        plt.show()\n",
        "\n",
        "    # Verifica se o modelo é linear (tem coef_) como a Regressão Logística\n",
        "    elif hasattr(best_pipeline.named_steps['clf'], 'coef_'):\n",
        "        print(\"Modelo vencedor é linear (Regressão Logística). Analisando Coeficientes...\")\n",
        "        # Os coeficientes estão em best_pipeline.named_steps['clf'].coef_[0]\n",
        "        coefficients = best_pipeline.named_steps['clf'].coef_[0]\n",
        "        coef = pd.Series(coefficients, index=feature_names).sort_values()\n",
        "\n",
        "        # Plotando os 10 coeficientes mais positivos e os 10 mais negativos\n",
        "        plt.figure(figsize=(12, 8))\n",
        "        coef.tail(10).plot(kind='barh', color='green')\n",
        "        plt.title('Top 10 Features que AUMENTAM a Chance de Churn')\n",
        "        plt.xlabel('Valor do Coeficiente')\n",
        "        plt.show()\n",
        "\n",
        "        plt.figure(figsize=(12, 8))\n",
        "        coef.head(10).plot(kind='barh', color='red')\n",
        "        plt.title('Top 10 Features que DIMINUEM a Chance de Churn')\n",
        "        plt.xlabel('Valor do Coeficiente')\n",
        "        plt.show()\n",
        "\n",
        "    else:\n",
        "        print(\"O modelo vencedor não é de árvore nem linear. Análise de importância não aplicável com este método.\")\n",
        "\n",
        "except Exception as e:\n",
        "    print(f\"Não foi possível interpretar o modelo. Erro: {e}\")"
      ],
      "metadata": {
        "colab": {
          "base_uri": "https://localhost:8080/",
          "height": 1000
        },
        "id": "NWvA3JQs8g5_",
        "outputId": "2d0033b9-2901-496b-ac4b-42a60cb15811"
      },
      "execution_count": 20,
      "outputs": [
        {
          "output_type": "stream",
          "name": "stdout",
          "text": [
            "Modelo vencedor é linear (Regressão Logística). Analisando Coeficientes...\n"
          ]
        },
        {
          "output_type": "display_data",
          "data": {
            "text/plain": [
              "<Figure size 1200x800 with 1 Axes>"
            ],
            "image/png": "[encoded data removed]"
          },
          "metadata": {}
        },
        {
          "output_type": "display_data",
          "data": {
            "text/plain": [
              "<Figure size 1200x800 with 1 Axes>"
            ],
            "image/png": "[encoded data removed]"
          },
          "metadata": {}
        }
      ]
    },
    {
      "cell_type": "markdown",
      "metadata": {
        "id": "lpUPYvuBtOuA"
      },
      "source": [
        "### **Análise dos Resultados e Insights para o RH**\n",
        "\n",
        "Como nosso modelo vencedor foi a **Regressão Logística**, a melhor forma de interpretá-lo é através da análise de seus **coeficientes**. Um coeficiente positivo indica que o aumento daquela variável **aumenta a probabilidade de churn**, enquanto um coeficiente negativo indica que o aumento da variável **diminui a probabilidade de churn** (ou seja, é um fator de retenção).\n",
        "\n",
        "#### **Principais Fatores que Influenciam o Churn (Segundo o Modelo):**\n",
        "\n",
        "A análise dos gráficos de coeficientes revela os fatores mais impactantes:\n",
        "\n",
        "**1. Fatores que mais AUMENTAM a chance de Churn (Coeficientes Positivos):**\n",
        "* **`OverTime_Yes` (Fazer Hora Extra):** Este é o fator com o impacto positivo mais forte. Funcionários que fazem hora extra estão significativamente mais propensos a deixar a empresa, indicando um possível esgotamento (*burnout*) ou insatisfação com a carga de trabalho.\n",
        "* **`MaritalStatus_Single` (Estado Civil Solteiro):** Funcionários solteiros têm uma maior tendência a sair, talvez por terem maior flexibilidade para buscar novas oportunidades.\n",
        "* **`BusinessTravel_Travel_Frequently` (Viagens Frequentes):** Uma rotina de viagens constantes também aparece como um forte preditor de churn.\n",
        "\n",
        "**2. Fatores que mais DIMINUEM a chance de Churn (Fatores de Retenção):**\n",
        "* **`JobLevel` (Nível do Cargo):** Quanto maior o nível hierárquico, menor a chance de churn. Isso sugere que a progressão de carreira é um fator de retenção muito eficaz.\n",
        "* **`TotalWorkingYears` (Anos de Experiência):** Funcionários com mais tempo de carreira tendem a ser mais estáveis e a permanecer na empresa.\n",
        "* **`MonthlyIncome` (Renda Mensal):** Como esperado, salários mais altos são um forte fator de retenção, diminuindo a probabilidade de um funcionário sair.\n",
        "\n",
        "#### **Conclusão e Recomendações:**\n",
        "\n",
        "A interpretação do nosso melhor modelo (Regressão Logística) nos permite ir além da simples previsão. Os resultados sugerem que as estratégias de retenção mais eficazes para a empresa devem focar em:\n",
        "\n",
        "1.  **Monitorar e Gerenciar a Carga de Trabalho:** Reduzir a necessidade de **horas extras** pode ser a ação mais impactante para diminuir a rotatividade.\n",
        "2.  **Investir em Planos de Carreira:** Criar oportunidades claras de crescimento (`JobLevel`) é um fator fundamental para reter talentos, especialmente os mais experientes.\n",
        "3.  **Revisar Políticas de Viagens e Remuneração:** Garantir que as políticas para funcionários que viajam muito e que a estrutura salarial sejam competitivas para reter os melhores profissionais."
      ]
    },
    {
      "cell_type": "markdown",
      "source": [
        "## 12) Método não-supervisionado: PCA + K-Means (exploratório)\n",
        "\n",
        "Além da modelagem supervisionada para prever o churn, uma análise não-supervisionada pode revelar estruturas e agrupamentos ocultos nos dados. Conforme visto na **Aula 3 de Analytics**, técnicas de clusterização como o **K-Means** são poderosas para segmentar uma base de dados em grupos com características similares, sem a necessidade de uma variável alvo.\n",
        "\n",
        "No entanto, como nosso dataset possui 30 dimensões (features), é impossível visualizar esses grupos diretamente. Para contornar isso, aplicaremos primeiro a **Análise de Componentes Principais (PCA)**, uma técnica de redução de dimensionalidade que nos permite \"comprimir\" as 30 features em apenas 2 componentes principais, que capturam a maior parte da variância dos dados e nos permitem plotá-los em um gráfico 2D.\n",
        "\n",
        "Em seguida, aplicaremos o K-Means sobre esses componentes, com o objetivo de segmentar os funcionários em 3 clusters distintos e investigar se esses grupos podem representar \"perfis\" de funcionários com diferentes comportamentos em relação ao churn."
      ],
      "metadata": {
        "id": "-8yyh2JkANcV"
      }
    },
    {
      "cell_type": "code",
      "execution_count": 21,
      "metadata": {
        "colab": {
          "base_uri": "https://localhost:8080/",
          "height": 564
        },
        "id": "d490b879",
        "outputId": "0f22c127-bf31-4f94-86b7-44d8b71dd1f0"
      },
      "outputs": [
        {
          "output_type": "display_data",
          "data": {
            "text/plain": [
              "<Figure size 800x600 with 1 Axes>"
            ],
            "image/png": "[encoded data removed]"
          },
          "metadata": {}
        }
      ],
      "source": [
        "# PCA + KMeans (exemplo exploratório)\n",
        "from sklearn.decomposition import PCA\n",
        "from sklearn.cluster import KMeans\n",
        "\n",
        "# usar preprocessor já fitado (se não, fit_transform no dataset completo sem target)\n",
        "X_prep_all = preprocessor.fit_transform(X)\n",
        "pca = PCA(n_components=2, random_state=RANDOM_STATE)\n",
        "X_pca = pca.fit_transform(X_prep_all)\n",
        "kmeans = KMeans(n_clusters=3, random_state=RANDOM_STATE).fit(X_pca)\n",
        "plt.figure(figsize=(8,6))\n",
        "plt.scatter(X_pca[:,0], X_pca[:,1], c=kmeans.labels_, cmap='tab10', s=20)\n",
        "plt.title('PCA 2D + KMeans (k=3)')\n",
        "plt.xlabel('PC1'); plt.ylabel('PC2')\n",
        "plt.show()\n"
      ]
    },
    {
      "cell_type": "markdown",
      "metadata": {
        "id": "iyzbtQiqvbaW"
      },
      "source": [
        "**Análise dos Resultados e Insights para o RH:**\n",
        "\n",
        "O gráfico de dispersão resultante mostra claramente a formação de três clusters (grupos) distintos de funcionários, representados pelas cores azul escuro, ciano e marrom. A separação visual entre os grupos, especialmente o cluster marrom em relação aos outros dois, sugere que existem perfis de funcionários com características bem diferentes dentro da organização.\n",
        "\n",
        "Esta descoberta é extremamente valiosa do ponto de vista de negócio e abre uma nova frente de análise:\n",
        "\n",
        "- Identificação de Perfis de Risco: O próximo passo investigativo seria analisar as características de cada cluster. Qual a média de MonthlyIncome, Age, YearsAtCompany e JobSatisfaction de cada grupo? Mais importante ainda, qual é a taxa de Attrition (churn) dentro de cada um desses clusters?\n",
        "\n",
        "- Segmentação de Políticas de Retenção: É muito provável que um desses clusters concentre a grande maioria dos casos de churn. Se, por exemplo, o cluster marrom tiver uma taxa de churn de 40%, enquanto os outros têm apenas 5%, a empresa pode parar de pensar em \"funcionários\" como um todo e começar a pensar nos \"funcionários do perfil marrom\".\n",
        "\n",
        "**Conclusão e Recomendações:**\n",
        "\n",
        "A análise de clusterização sugere fortemente que a força de trabalho não é homogênea. A identificação desses segmentos permite ao RH desenvolver políticas de retenção muito mais focadas e eficientes. Em vez de aplicar uma solução genérica para toda a empresa, seria possível criar um programa de ação específico para o perfil de funcionários identificado como de \"alto risco\" pelo nosso agrupamento, otimizando recursos e aumentando o impacto das iniciativas de retenção."
      ]
    },
    {
      "cell_type": "markdown",
      "metadata": {
        "id": "badbff8f"
      },
      "source": [
        "## 13) Salvamento do Modelo e Considerações Finais\n",
        "\n",
        "Após um ciclo completo de análise, pré-processamento, modelagem e otimização, chegamos à etapa final de salvamento do nosso modelo vencedor. O objetivo aqui é persistir o pipeline completo (que inclui tanto as etapas de pré-processamento quanto o modelo de Regressão Logística otimizado) em um arquivo.\n",
        "\n",
        "Isso nos permite recarregar o modelo treinado no futuro para fazer novas previsões sem a necessidade de re-treinar todo o processo. Para isso, utilizaremos a biblioteca `joblib`, que é eficiente para salvar objetos Python complexos, como os nossos pipelines do Scikit-learn."
      ]
    },
    {
      "cell_type": "code",
      "execution_count": 22,
      "metadata": {
        "colab": {
          "base_uri": "https://localhost:8080/"
        },
        "id": "22699793",
        "outputId": "9a4de3c2-f475-40ea-fbac-07a99bea591c"
      },
      "outputs": [
        {
          "output_type": "stream",
          "name": "stdout",
          "text": [
            "Pipeline salvo com sucesso em 'modelo_churn_regressao_logistica.joblib'\n"
          ]
        }
      ],
      "source": [
        "# Exemplo de salvamento do pipeline (joblib) - VERSÃO CORRIGIDA\n",
        "\n",
        "try:\n",
        "    import joblib\n",
        "\n",
        "    # Define o modelo que será salvo (o melhor que encontramos, a Regressão Logística)\n",
        "    modelo_final = lr_pipeline\n",
        "\n",
        "    # Define o nome do arquivo que será criado\n",
        "    nome_arquivo = 'modelo_churn_regressao_logistica.joblib'\n",
        "\n",
        "    # Salva o pipeline completo (pré-processador + modelo) no arquivo\n",
        "    joblib.dump(modelo_final, nome_arquivo)\n",
        "\n",
        "    print(f\"Pipeline salvo com sucesso em '{nome_arquivo}'\")\n",
        "\n",
        "except Exception as e:\n",
        "    print(f\"Erro ao salvar o pipeline. Rode isso no Colab onde o modelo foi treinado com sucesso.\\nErro: '{e}'\")\n"
      ]
    },
    {
      "cell_type": "markdown",
      "source": [
        "**Considerações Finais e Próximos Passos**\n",
        "\n",
        "Este MVP demonstrou com sucesso a construção de uma solução de ponta a ponta para a previsão de churn de funcionários. A partir de uma análise exploratória, estabelecemos um baseline e comparamos sistematicamente múltiplos algoritmos de classificação. Através de uma otimização de hiperparâmetros, identificamos a **Regressão Logística Otimizada** como o modelo mais eficaz, alcançando um **Recall de 68%** no conjunto de teste, um resultado de alto impacto para o negócio.\n",
        "\n",
        "Como boas práticas para a evolução deste projeto, destacamos:\n",
        "\n",
        "* **Documentação Contínua:** Todas as decisões tomadas (como a escolha de `class_weight='balanced'` e a priorização do Recall) devem ser continuamente documentadas para garantir a manutenibilidade do projeto.\n",
        "* **Engenharia de Features:** Como próximo passo, seria valioso colaborar com especialistas de RH para criar novas features (`feature engineering`) que capturem nuances do comportamento dos funcionários (ex: métricas de engajamento, histórico de promoções).\n",
        "* **Interpretabilidade Aprofundada (SHAP/LIME):** Embora tenhamos analisado os coeficientes, o uso de ferramentas como SHAP ou LIME poderia gerar explicações para previsões individuais, aumentando a confiança dos stakeholders no modelo.\n",
        "* **MLOps:** Para uma implementação em produção, o próximo passo seria integrar este pipeline a uma esteira de MLOps, automatizando o re-treinamento, o monitoramento de performance e o deploy (CI/CD)."
      ],
      "metadata": {
        "id": "jQtOw7zGCU0U"
      }
    },
    {
      "cell_type": "markdown",
      "source": [
        "## 14) Conclusão Geral do Projeto\n",
        "\n",
        "Este MVP cumpriu com sucesso o objetivo de desenvolver uma solução de ponta a ponta para a previsão de rotatividade (`churn`) de funcionários, utilizando um fluxo de trabalho metodológico e as melhores práticas de Machine Learning.\n",
        "\n",
        "Partindo de uma Análise Exploratória de Dados (EDA), que revelou um forte desbalanceamento na variável alvo, estabelecemos um modelo de `Baseline` para definir um critério mínimo de performance. Em seguida, comparamos sistematicamente múltiplos algoritmos de classificação, incluindo Regressão Logística, Random Forest e Gradient Boosting, todos encapsulados em pipelines de pré-processamento robustos para garantir a consistência e evitar o vazamento de dados.\n",
        "\n",
        "A etapa de otimização avançada com `GridSearchCV`, focada em maximizar a métrica de **Recall**, foi decisiva. Ela demonstrou que, para este problema, um modelo de **Regressão Logística devidamente ajustado** (especialmente com o tratamento do desbalanceamento via `class_weight`) superou significativamente o desempenho de modelos de ensemble mais complexos.\n",
        "\n",
        "O modelo final selecionado alcançou um **Recall de 68%** no conjunto de teste. Este resultado é de alto impacto para o negócio, pois permite que a área de RH foque seus esforços de retenção em 2 de cada 3 funcionários que de fato teriam saído da empresa, um ganho imenso em relação ao baseline e às versões não otimizadas dos modelos. A análise de interpretabilidade reforçou insights acionáveis, como o impacto negativo das horas extras e a importância de planos de carreira (`JobLevel`) na retenção de talentos.\n",
        "\n",
        "Conclui-se, portanto, que o projeto não apenas entregou um modelo preditivo funcional e com performance validada, mas também gerou insights valiosos que podem guiar estratégias de Recursos Humanos mais eficientes e baseadas em dados."
      ],
      "metadata": {
        "id": "SCNRA27vIGZN"
      }
    },
    {
      "cell_type": "markdown",
      "metadata": {
        "id": "eb2fa158"
      },
      "source": [
        "---\n",
        "**Apêndice: tópicos avançados (próximos passos)**\n",
        "\n",
        "- *Feature engineering* com domain knowledge (RH) — ex.: criação de métricas de engajamento, variação salarial, histórico de promoções.  \n",
        "- *Cross-validation temporal* se o dataset tiver carimbo de tempo (séries temporais).  \n",
        "- *Explainability* aprofundada com SHAP/ LIME e criação de relatórios para gestores.  \n",
        "- *Pipeline de MLOps* para treinamento e deploy (CI/CD, monitoramento de drift).\n"
      ]
    }
  ]
}